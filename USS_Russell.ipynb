{
 "cells": [
  {
   "cell_type": "code",
   "execution_count": 8,
   "metadata": {},
   "outputs": [],
   "source": [
    "# This is a webpage to honor those who served on the DD 414 USS Russell during WWII."
   ]
  },
  {
   "cell_type": "code",
   "execution_count": 39,
   "metadata": {},
   "outputs": [],
   "source": [
    "# Make a map showing the routes from month to month and year to year.\n",
    "# Create pages for locations of interest visited by the ship. Include present-day status, developments, etc.\n",
    "# Layer-in highlights of other events and personalities that were happening concurrently with the Russell's activities."
   ]
  },
  {
   "cell_type": "markdown",
   "metadata": {},
   "source": [
    "## Resources\n",
    "* http://navsource.org/\n",
    "* http://www.navsource.org/archives/05/414.htm"
   ]
  },
  {
   "cell_type": "code",
   "execution_count": 51,
   "metadata": {},
   "outputs": [],
   "source": [
    "%reload_ext lab_black"
   ]
  },
  {
   "cell_type": "code",
   "execution_count": 50,
   "metadata": {},
   "outputs": [],
   "source": [
    "# Setup and dependencies\n",
    "\n",
    "import pandas as pd\n",
    "import plotly\n",
    "import plotly.express as px\n",
    "import plotly.graph_objects as go\n",
    "import os, csv, requests, json, datetime\n",
    "import numpy as np\n",
    "from config import mapbox_token\n",
    "from datetime import date\n",
    "\n",
    "px.set_mapbox_access_token(mapbox_token)"
   ]
  },
  {
   "cell_type": "markdown",
   "metadata": {},
   "source": [
    "------\n",
    "<img src=\"./images/0541417.jpg\" alt=\"USS Russell - DD 414\" style=\"border: 1px solid darkgray\" align=\"left\" width=\"600px\">\n",
    "<span style=\"color:navy\">\n",
    "<h1 align=\"center\">The USS Russell</h1>\n",
    "<h3 align=\"center\">DD 414</h3>\n",
    "<h2 align=\"center\">World War II</h2>\n",
    "    \n",
    "<span style=\"color:navy\">\n",
    "   \n",
    "---\n",
    "\n",
    "<span style=\"color:navy\">\n",
    "   \n",
    "#### “Not all those who wander are lost.” — Bilbo Baggins\n",
    "    \n",
    "#### “The world is full enough of hurts and mischances without wars to multiply them.” – Warden\n",
    "    \n",
    "#### “This day does not belong to one man but to all. Let us together rebuild this world that we may share in the days of peace.” – Aragorn\n",
    "    \n",
    "#### “You step into the Road, and if you don’t keep your feet, there is no knowing where you might be swept off to.”― J.R.R. Tolkien\n",
    "\n",
    "#### “There’s some good in this world, Mr. Frodo… and it’s worth fighting for.” — Sam Gangee\n",
    "\n",
    "#### “The board is set, the pieces are moving. We come to it at last, the great battle of our time.” – Gandalf\n",
    "            \n",
    "    \n",
    "-----\n",
    "    \n",
    "#### <blockquote>Image citation: </blockquote>"
   ]
  },
  {
   "cell_type": "markdown",
   "metadata": {},
   "source": [
    "### Find dates and places of the ship during WWII\n",
    "* Check books for sources, \"Survivor\" -Barry Friedman"
   ]
  },
  {
   "cell_type": "code",
   "execution_count": 65,
   "metadata": {},
   "outputs": [],
   "source": [
    "# Best to build this here or better to make in a CSV or Excel file first?\n",
    "# Timeline = Event, Date, Location, Commentary\n",
    "# Add changes of command\n",
    "# Hovering over or clicking on an event highlights the ship's location on the map.\n",
    "\n",
    "timeline = [\n",
    "    (\n",
    "        \"Keel Date\",\n",
    "        \"12-20-1937\",\n",
    "        \"Newport News, VA\",\n",
    "        \"Newport News Shipbuilding & Drydock Co.\",\n",
    "    ),\n",
    "    (\"Launch Date\", \"12-8-1938\", \"Newport News, VA\"),\n",
    "    (\"Commissioned\", \"11-3-1939\", \"Newport News, VA\"),\n",
    "    (\"Decommissioned\", \"11-15-1945\", \"San Diego, CA\"),\n",
    "    (\n",
    "        \"Lend Lease Act Signing\",\n",
    "        \"09-01-1940\",\n",
    "        \"Halifax, Nova Scotia\",\n",
    "        \"Exact date in September unknown. Check historical record on Lend-Lease Act\",\n",
    "    ),\n",
    "    (\n",
    "        \"Target Practice\",\n",
    "        \"12-7-1941 12:53\",\n",
    "        \"Cosco Bay, Maine\",\n",
    "    ),  # 7:53am Honolulu time, first wave of Japanese attack on Pearl Harbor\n",
    "    (\n",
    "        \"Repairs\",\n",
    "        \"12-17-1941\",\n",
    "        \"New York Navy Yard\",\n",
    "        \"Received orders for the Pacific sailing with the carrier Yorktown and four other destroyers\",\n",
    "    ),\n",
    "]"
   ]
  },
  {
   "cell_type": "code",
   "execution_count": 66,
   "metadata": {},
   "outputs": [],
   "source": [
    "df = pd.DataFrame(\n",
    "    timeline, columns=[\"Event\", \"Date\", \"Location\", \"Comment\"]\n",
    ")  # Add location info - place and lat/long"
   ]
  },
  {
   "cell_type": "code",
   "execution_count": 67,
   "metadata": {},
   "outputs": [],
   "source": [
    "df[\"Date\"] = pd.to_datetime(df[\"Date\"])"
   ]
  },
  {
   "cell_type": "code",
   "execution_count": 68,
   "metadata": {},
   "outputs": [
    {
     "data": {
      "text/html": [
       "<div>\n",
       "<style scoped>\n",
       "    .dataframe tbody tr th:only-of-type {\n",
       "        vertical-align: middle;\n",
       "    }\n",
       "\n",
       "    .dataframe tbody tr th {\n",
       "        vertical-align: top;\n",
       "    }\n",
       "\n",
       "    .dataframe thead th {\n",
       "        text-align: right;\n",
       "    }\n",
       "</style>\n",
       "<table border=\"1\" class=\"dataframe\">\n",
       "  <thead>\n",
       "    <tr style=\"text-align: right;\">\n",
       "      <th></th>\n",
       "      <th>Event</th>\n",
       "      <th>Date</th>\n",
       "      <th>Location</th>\n",
       "      <th>Comment</th>\n",
       "    </tr>\n",
       "  </thead>\n",
       "  <tbody>\n",
       "    <tr>\n",
       "      <th>0</th>\n",
       "      <td>Keel Date</td>\n",
       "      <td>1937-12-20 00:00:00</td>\n",
       "      <td>Newport News, VA</td>\n",
       "      <td>Newport News Shipbuilding &amp; Drydock Co.</td>\n",
       "    </tr>\n",
       "    <tr>\n",
       "      <th>1</th>\n",
       "      <td>Launch Date</td>\n",
       "      <td>1938-12-08 00:00:00</td>\n",
       "      <td>Newport News, VA</td>\n",
       "      <td>None</td>\n",
       "    </tr>\n",
       "    <tr>\n",
       "      <th>2</th>\n",
       "      <td>Commissioned</td>\n",
       "      <td>1939-11-03 00:00:00</td>\n",
       "      <td>Newport News, VA</td>\n",
       "      <td>None</td>\n",
       "    </tr>\n",
       "    <tr>\n",
       "      <th>3</th>\n",
       "      <td>Decommissioned</td>\n",
       "      <td>1945-11-15 00:00:00</td>\n",
       "      <td>San Diego, CA</td>\n",
       "      <td>None</td>\n",
       "    </tr>\n",
       "    <tr>\n",
       "      <th>4</th>\n",
       "      <td>Lend Lease Act Signing</td>\n",
       "      <td>1940-09-01 00:00:00</td>\n",
       "      <td>Halifax, Nova Scotia</td>\n",
       "      <td>Exact date in September unknown. Check histori...</td>\n",
       "    </tr>\n",
       "    <tr>\n",
       "      <th>5</th>\n",
       "      <td>Target Practice</td>\n",
       "      <td>1941-12-07 12:53:00</td>\n",
       "      <td>Cosco Bay, Maine</td>\n",
       "      <td>None</td>\n",
       "    </tr>\n",
       "    <tr>\n",
       "      <th>6</th>\n",
       "      <td>Repairs</td>\n",
       "      <td>1941-12-17 00:00:00</td>\n",
       "      <td>New York Navy Yard</td>\n",
       "      <td>Received orders for the Pacific sailing with t...</td>\n",
       "    </tr>\n",
       "  </tbody>\n",
       "</table>\n",
       "</div>"
      ],
      "text/plain": [
       "                    Event                Date              Location  \\\n",
       "0               Keel Date 1937-12-20 00:00:00      Newport News, VA   \n",
       "1             Launch Date 1938-12-08 00:00:00      Newport News, VA   \n",
       "2            Commissioned 1939-11-03 00:00:00      Newport News, VA   \n",
       "3          Decommissioned 1945-11-15 00:00:00         San Diego, CA   \n",
       "4  Lend Lease Act Signing 1940-09-01 00:00:00  Halifax, Nova Scotia   \n",
       "5         Target Practice 1941-12-07 12:53:00      Cosco Bay, Maine   \n",
       "6                 Repairs 1941-12-17 00:00:00    New York Navy Yard   \n",
       "\n",
       "                                             Comment  \n",
       "0            Newport News Shipbuilding & Drydock Co.  \n",
       "1                                               None  \n",
       "2                                               None  \n",
       "3                                               None  \n",
       "4  Exact date in September unknown. Check histori...  \n",
       "5                                               None  \n",
       "6  Received orders for the Pacific sailing with t...  "
      ]
     },
     "execution_count": 68,
     "metadata": {},
     "output_type": "execute_result"
    }
   ],
   "source": [
    "df"
   ]
  },
  {
   "cell_type": "markdown",
   "metadata": {},
   "source": [
    "### Try some NLP techniques on this.\n",
    "\n",
    "From https://www.historycentral.com/navy/destroyer2/russell.html\n",
    "\n",
    "Russell (DD-414: dp. 1570; 1. 348'2\"; b. 36'1\"; dr. 11'5\"; s. 35 k.; opl. 192'; a. 5 5\", 8 21\" tt., 2 dct.; cl. Sims) Russell (DD-414) was laid down 20 December 1937 by the Newport News Shipbuilding & Dry Dock Co., Newport News, Va., launched 8 December 1938, sponsored by Mrs. Charles H. Marshall, grandaughter of Rear Admiral Russell and commissioned 3 November 1939, Lt. Comdr. J. C. Pollock in command. Commissioned 2 months after the outbreak of World War II in Europe, Russell oruised in the western Atlantic and in the Caribbean on Neutrality Patrol until the bombing of Pearl Harbor. Then ordered to the Pacific, she transited the Panama Canal and proceeded to San Diego, whence, on 6 January 1942, she sailed west, screening reinforcements to Samoa. By the time of her arrival, 20 January, the Japanese had moved into Malaya, Borneo, the Celebes, the Gilberts, and the Bismarck Archipelago. Within the week, Rabaul fell and the Japanese continued on to New Ireland and the Solomons while further west they extended their occupation of the Netherlands East Indies. On the 25th, Russell sailed north with TF 17, screened Yorktown (CV-5) as her planes raided Makin, Mili, and Jaluit on 1 February, then set a course for Pearl Harbor. In midmonth, the forge sailed again. Diverted from its original destination, Wake, it oovered forces establishing an airbase on Canton Island, important on the Hawaii-Samoa-Fiji route to Australia and less than 1,000 miles from 1\\/lakin. Raids on Rabaul and Gasmata were next ordered to cover a movement of troops to New Caledonia, but on 8 Marchthe Japanese landed at Salamaua and Lae in New Guinea and Port Moresby was threatened. The force, again joined by the Le~ington foiee—as in the Gilberts' raid, steamed into the Gulf of Papua, whence, on the 10th, planes were sent over the Owen Stanley Range to bomb the newly-established Japanese bases on the l Iuon Gulf. Through April, Russell continued to screen the Yorktown force, operating primarily in the ANZAC area. Detached on 3 May to screen Neosho during fueling operations with TF 11 she rejoined TF 17 early on the 5th and resumed screening duties for the force's heavier units. On the 7th, in the Coral Sea, she engaged enemy planes closing the formation to threaten Yorktown and Lexington (CV-2) and to support Japanese forces in an assault on Port Moresby. Le~ington hit and heavily damaged, but still in action, continued to recover and launch planes. Three hours later, however, she reported a serious explosion. A second followed. Her fires were no longer under oontrol. She soon oommeneed abandoning ship. Russell joined her screen; eireled the crippled ship as rescue ships evacuated personnel, and, with the completion of that work, departed the scene of the Battle of the Coral Sea. Retiring to Tonga, Russell debarked 170 survivors from Lerington and sailed for Pearl Harbor. Arriving on the 27th she headed out again on the 30th, this time toward Midway. On 4 June, Task Forees 16 and 17 again met the enemy in an air duel, through which Russell steamed in the screen of Yorktown. In the afternoon, enemy torpedo planes broke through the screen and scored successfully on the carrier. The patched-up survivor of the Coral Sea was abandoned. Russell took on 492 of her crew and aviation personnel. The next day she transferred 27 to Astoria (CA-34) to assist in salvage operations on the carrier, but the Japanese torpedoes negated the effort and Yorktown and Hamr7zann (DD-412) were lost. On the 10th, Russell covered the transferral of replacements from Saratoga (CV-3) to Hornet (CV-8) and Enterprise (CV-6); and, on the 13th, she returned to Pearl Harbor. Engaged in training exercises for the next 2 months, Russell again sortied with TF 17 on 17 August, took station screening Hornet; and headed southwest. On the 29th, TF 17 joined TF 61, becoming TG 61.2. On the 31st Saratoga took a torpedo and Russell conducted an unsuccessfulsubmarine hunt, the first of many in the long and costly campaign for Guadaleanal. On 6 September, one of Hornet's planes dropped an explosive off Russell's starboard quarter to detonate a torpedo. Another submarine search commenced At l 452 she established contact and dropped six 600-pound depth charges. At 1513, she sighted an oil slick 1 mile by one-half mile, but contact was lost at 700 yards and never regained Through the remainder of the year, and into the new, Russell continued to operate in support of the Guadaleanal campaign. On 25 and 26 October, she participated in the Battle of the Santa Cruz Islands, during which she again joined in rescue operations for a sinking carrier, this time Hornet, from which she transferred the commander of Task Foree 17, Rear Adm. George D. Murray and his staff to Pensacola (CA-24), seriously wounded personnel to Northampton (CA-26), and other survivors to Noumea where Russell's superstructure damaged during rescue work—was repaired. During December and into January 1943, she screened eonvoys to Guadaleanal and Tulagi, then to Rennel. In February, she screened Enterprise; then, in March, resumed convoy escort work, making one run to Australia and back by midApril. On 1 May the destroyer set a course for the west coast. At the end of July, after overhaul at Mare Island, she steamed north to join forces staging for the \"invasion\" of Kiska. Aleutian patrol duty follou ed, and, w ith the arrival of autumn, she turned south to escort landing craft to Hawaii. In October, she continued on to Wellington, New Zealand and, in early November, she escorted transports to the Ne~- Hebrides where she joined TF 53, then preparing to push into the Gilberts. Underway on the 13th with the Task Force, she arrived with the troop transports off Betio, Tarawa, on the 20th, then screened heavier units as they shelled the shore. Remaining in the area until the 25th, she provided gunfire support and screened tho transports as they filled with Marine casualties. On the 27th, she joined TG 50.:3 and, with TG 50.1, sailed for the Marshalls. On 4 December, carrier planes raided Kwajalein and Wotje, and, on the 9th, the force returned to Pearl Harbor, whence Russell continued on to the west coast. On 13 January 1944, Russell, screening TG 53.5, departed the California coast. Training in the Hawaiian Islands followed. On the 22d the force headed west. On the 30th, Russell joined other destroyers and heavier units in shelling Wotje. On the 31st, she rejoined the main force off Kwajalein and after initial screening duties, added her guns to the naval gunfire support line. On 2 Fehruary, she screened CarDiv 22 and on the 3d, entered Kwajalein lagoon. Standing out 5 days later, she arrived at Pearl Harbor on the 15th and was directed on to Puget Sound for repairs. Repairs completed in March, Russell returned to lIawaii in early April; then escorted U.S. Army tug, Willard Holbrook to New Guinea where she rejoined her squadron, DesRon 2. Arriving at Finsehafen 4 May, she reported to the commander of TF 76 at Sudest on the 6th and commenced 5 months of intensive and navigationally difficult escort work along the New Guinea coast. Assigned initially to escort LST's resupplying Hollandia and Aitape, she joined TF 77 on the 16th and covered LCI's and AT's to the Wakde-Sarmi area. From the 17th to the 20th, she stood off Wakde, marking the approach channel on the first day of the campaigns there and providing fire support and screening services on the others. On the 20th, she returned to Humboldt Bay and 5 days later sailed with LST's for Biak to commence Operation \"Horliek.\" On the 27th, she shelled Padiator Island, patrolled between Pai and Pandiadori Islands, blasted targets on Biak, and then got underway to return to Humboldt Bay. Into June, she continued to escort convoys to and provide cover for operations at Biak and Wakde. In mid-June, she participated in a bombardment of the Toem area, then resumed escort runs along the coast. In early July, Noemfoor, with its two Japanese airfields, became the target. At midmonth Russell gained a brief respite at Manus, then at the end of the month rommenced Operation \"Globetrotter,\" the capture of Sansapor. Through August, she continued operations in support of the campaign and, in mid-September, moved forward to the Sloluccas to cover the occupation of Morotai, the last stepping stone on the southern route to the Philippines and on the eastern route to Borneo and the Netherlands East Indies. On 13 October Russell sailed with TF 78 for the Philippines and on the 20th, as the troops of the Northern Attack Foree landed south of Taeloban, patrolled off Alabat Point. 0n the 21st she took up fire support duties to the north of the unloading area. Through the 24th she remained in San Pedro Bay; resumed patrol in Leyte Gulf on the 25th; and, on the 26th, got underway for New Guinea, whence during November and December, she escorted reinforcements to Leyte. On 28 December Russell departed Aitape for her next amphibious operation—the invasion of Luzon—and steamed into the Mindoro Sea on 5 January 1945. Two days later, she joined three other destroyers in forming an interceptor force 5 miles on the starboard of the San Fabian Attack Foree to destroy any enemy ships attempting a sortie from Manila Bay against the convoy. At 2230 an enemy destroyer Hinoki was detected and fired on. The shells found their mark, Hinoki exploded and sank within 20 minutes. On the 9th, the force, having survived harassing attacks bv planes, boats, and ships, arrived in Lingayen Gulf and Russell assumed screening duties off the transport area. For 9 days she patrolled, illuminated, bombarded, aml fought off kamikazes. From the 18th to the 23d, she escorted damaged ships back to Levte and, on the 27th, sailed north again. On the 31st, she ariived off Nasugbu Bay, covered YMS's as they cleared approach channels, then fired on enemy emplacements on Nasugbu Point. Relieved in late afternoon she returned to Lingayen Gulf, thence, on 2 February, to Leyte, New Guinea, and the Solomons. Russell arrived at Guadaleanal 15 February rejoined the 5th Fleet and prepared for Operation \"Iceberg;'; the Okinawa offensive. On 1 April, she arrived off the assault beaches and commenced screening the Northern Transport area. From the 3d to the 5th, she patrolled north of Ie Shima, then returned to the transport area to escort a convoy to Ulithi. Returning to the Hagushi beaches with reinforcements on the 21st, she shifted to Kerama Retto, whence she patrolled in carrier operating area \"Rapier,\" south of Okinawa, into May. Detached from carrier screening duty on the 27th, she proceeded to the Hagushi anchorage and got underway the following day for the United States and a yard overhaul. Still undergoing overhaul at Seattle when the war ended R[/R?'II was prepared for inactivation during September; and, on 15 November, she was decommissioned. Thirteen days later she was struck from the Navy list and, in September 1947, she was sold for scrap to the National Metal & Steel Corp., Terminal Island, Calif. Russell earned 16 battle stars during World War II."
   ]
  },
  {
   "cell_type": "markdown",
   "metadata": {},
   "source": [
    "<span style=\"color:navy\">\n",
    "\n",
    "#### \"The world breaks everyone, and afterward, many are strong at the broken places.\" -Ernest Hemingway"
   ]
  },
  {
   "cell_type": "markdown",
   "metadata": {},
   "source": [
    "### A scrolling timeline. As plotly mapbox plays through the timeline on the left, the storyline on the right cycles through with images and supporting text. Manually click to move to the next event."
   ]
  },
  {
   "cell_type": "code",
   "execution_count": null,
   "metadata": {},
   "outputs": [],
   "source": []
  }
 ],
 "metadata": {
  "kernelspec": {
   "display_name": "Python 3",
   "language": "python",
   "name": "python3"
  },
  "language_info": {
   "codemirror_mode": {
    "name": "ipython",
    "version": 3
   },
   "file_extension": ".py",
   "mimetype": "text/x-python",
   "name": "python",
   "nbconvert_exporter": "python",
   "pygments_lexer": "ipython3",
   "version": "3.7.9"
  }
 },
 "nbformat": 4,
 "nbformat_minor": 4
}
