{
 "cells": [
  {
   "cell_type": "code",
   "execution_count": 4,
   "metadata": {},
   "outputs": [],
   "source": [
    "# This is a webpage to honor those who served on the DD 414 USS Russell during WWII."
   ]
  },
  {
   "cell_type": "code",
   "execution_count": 5,
   "metadata": {},
   "outputs": [],
   "source": [
    "# Make a map showing the routes from month to month and year to year.\n",
    "# Create pages for locations of interest visited by the ship. Include present-day status, developments, etc.\n",
    "# Layer-in highlights of other events and personalities that were happening concurrently with the Russell's activities.\n",
    "# Look up USS Gwin, first ship before Russell."
   ]
  },
  {
   "cell_type": "markdown",
   "metadata": {},
   "source": [
    "## Resources\n",
    "* http://navsource.org/\n",
    "* http://www.navsource.org/archives/05/414.htm"
   ]
  },
  {
   "cell_type": "code",
   "execution_count": 6,
   "metadata": {},
   "outputs": [],
   "source": [
    "%reload_ext lab_black"
   ]
  },
  {
   "cell_type": "code",
   "execution_count": 7,
   "metadata": {},
   "outputs": [],
   "source": [
    "import pandas as pd\n",
    "import plotly\n",
    "import plotly.express as px\n",
    "import plotly.graph_objects as go\n",
    "import os, csv, requests, json, datetime\n",
    "import numpy as np\n",
    "from config import mapbox_token\n",
    "from datetime import date\n",
    "\n",
    "px.set_mapbox_access_token(mapbox_token)"
   ]
  },
  {
   "cell_type": "markdown",
   "metadata": {},
   "source": [
    "------\n",
    "<img src=\"./images/0541417.jpg\" alt=\"USS Russell - DD 414\" style=\"border: 1px solid darkgray\" align=\"left\" width=\"600px\">\n",
    "<span style=\"color:navy\">\n",
    "<h1 align=\"center\">The USS Russell</h1>\n",
    "<h3 align=\"center\">DD 414</h3>\n",
    "<h2 align=\"center\">World War II</h2>\n",
    "    \n",
    "<span style=\"color:navy\">\n",
    "   \n",
    "---\n",
    "\n",
    "<span style=\"color:navy\">\n",
    "   \n",
    "#### “Not all those who wander are lost.” — Bilbo Baggins\n",
    "    \n",
    "#### “The world is full enough of hurts and mischances without wars to multiply them.” – Warden\n",
    "    \n",
    "#### “This day does not belong to one man but to all. Let us together rebuild this world that we may share in the days of peace.” – Aragorn\n",
    "    \n",
    "#### “You step into the Road, and if you don’t keep your feet, there is no knowing where you might be swept off to.”― J.R.R. Tolkien\n",
    "\n",
    "#### “There’s some good in this world, Mr. Frodo… and it’s worth fighting for.” — Sam Gangee\n",
    "\n",
    "#### “The board is set, the pieces are moving. We come to it at last, the great battle of our time.” – Gandalf\n",
    "            \n",
    "    \n",
    "-----\n",
    "    \n",
    "#### <blockquote>Image citation: </blockquote>"
   ]
  },
  {
   "cell_type": "markdown",
   "metadata": {},
   "source": [
    "### Find dates and places of the ship during WWII\n",
    "* Check books for sources, \"Survivor\" -Barry Friedman"
   ]
  },
  {
   "cell_type": "code",
   "execution_count": 108,
   "metadata": {},
   "outputs": [],
   "source": [
    "# Best to build this here or better to make in a CSV or Excel file first?\n",
    "# Timeline = Event, Date, Location, Commentary, Latitude, Longitude, Action\n",
    "# Add changes of command\n",
    "# Hovering over or clicking on an event highlights the ship's location on the map.\n",
    "# Show on the map other notable events occurring at the same time as Russell's actions.\n",
    "\n",
    "timeline = [\n",
    "    (\n",
    "        \"Keel Date\",\n",
    "        \"12-20-1937\",\n",
    "        \"Newport News, VA\",\n",
    "        \"Newport News Shipbuilding & Drydock Co.\",\n",
    "        37.0870821,\n",
    "        -76.4730122,\n",
    "    ),\n",
    "    (\n",
    "        \"Launch Date\",\n",
    "        \"12-8-1938\",\n",
    "        \"Newport News, VA\",\n",
    "        \"NA\",\n",
    "        37.0870821,\n",
    "        -76.4730122,\n",
    "    ),\n",
    "    (\n",
    "        \"Commissioned\",\n",
    "        \"11-3-1939\",\n",
    "        \"Newport News, VA\",\n",
    "        \"NA\",\n",
    "        37.0870821,\n",
    "        -76.4730122,\n",
    "    ),\n",
    "    (\n",
    "        \"Decommissioned\",\n",
    "        \"11-15-1945\",\n",
    "        \"San Diego, CA\",\n",
    "        \"NA\",\n",
    "        32.7152778,\n",
    "        -117.1563889,\n",
    "    ),\n",
    "    (\n",
    "        \"Lend Lease Act Signing\",\n",
    "        \"09-01-1940\",\n",
    "        \"Halifax, Nova Scotia\",\n",
    "        \"Exact date in September unknown. Check historical record on Lend-Lease Act.\",\n",
    "        44.65,\n",
    "        -63.6,\n",
    "    ),\n",
    "    (\n",
    "        \"Target Practice\",\n",
    "        \"12-7-1941 12:53\",\n",
    "        \"Cosco Bay, Maine\",\n",
    "        \"NA\",\n",
    "        43.640800,\n",
    "        -70.257440,\n",
    "    ),  # 7:53am Honolulu time, first wave of Japanese attack on Pearl Harbor\n",
    "    (\n",
    "        \"Repairs\",\n",
    "        \"12-17-1941\",\n",
    "        \"New York Navy Yard\",\n",
    "        \"Received orders for the Pacific sailing with the carrier Yorktown and four other destroyers.\",\n",
    "        40.712345,\n",
    "        -74.005531,\n",
    "    ),\n",
    "    (\n",
    "        \"Set sail with reinforcements\",\n",
    "        \"01-06-1942\",\n",
    "        \"San Diego Naval Base\",\n",
    "        \"Sailed west, screening reinforcements to Samoa.\",\n",
    "        32.7152778,\n",
    "        -117.1563889,\n",
    "    ),\n",
    "    (\n",
    "        \"F4F Wildcat pilot rescue\",\n",
    "        \"01-08-1942\",\n",
    "        \"Pacific\",\n",
    "        \"F4F Wildcat crashed after takeoff from Yorktown. Russell rescued pilot.\",\n",
    "        23.4871,\n",
    "        -126.9387,  # Estimated location based on timing description, estimated speed, and distance calculation. Obtained resulting lat/long from Google Earth.\n",
    "    ),\n",
    "    (\n",
    "        \"Arrival in Samoa\",\n",
    "        \"01-20-1942\",\n",
    "        \"Pago Pago, Samoa\",\n",
    "        \"Arrived in Samoa with reinforcements.\",\n",
    "        -14.273280,\n",
    "        -170.702970,\n",
    "    ),\n",
    "    (\n",
    "        \"Depart Samoa enroute to Gilbert Islands\",\n",
    "        \"01-25-1942\",\n",
    "        \"Pago Pago, Samoa\",\n",
    "        \"Left Samoa for joint attack on Gilbert and Marshall Islands with Yorktown and Enterprise task forces.\",\n",
    "        -13.9742,\n",
    "        -170.8775,\n",
    "    ),\n",
    "    (\n",
    "        \"Attack at the Gilbert Islands\",\n",
    "        \"02-01-1942\",\n",
    "        \"Gilbert Islands\",\n",
    "        \"Aircraft from Yorktown attack Japanese naval bases. Kiribati, Tarawa.\",\n",
    "        0.0584,\n",
    "        -174.0021,\n",
    "    ),\n",
    "    (\n",
    "        \"Arrive Pearl Harbor, Hawaii\",\n",
    "        \"02-06-1942\",\n",
    "        \"Pearl Harbor, Hawaii\",\n",
    "        \"Repairs and resupply at Pearl Harbor.\",\n",
    "        21.339260,\n",
    "        -157.960922,\n",
    "    ),\n",
    "    (\n",
    "        \"Airmen Rescue\",\n",
    "        \"12-23-1941\",\n",
    "        \"Pacific\",\n",
    "        \"Rescued two airmen crashed after takeoff from Yorktown. Location uncertain.\",\n",
    "        15.305380,\n",
    "        -108.701307,\n",
    "    ),\n",
    "    (\n",
    "        \"Submarine Encounter\",\n",
    "        \"12-20-1941\",\n",
    "        \"Pacific near Panama Canal\",\n",
    "        \"Attacked probable submarine shortly after entering Pacific Ocean. Location uncertain.\",\n",
    "        5.840081,\n",
    "        -83.121784,\n",
    "    ),\n",
    "]"
   ]
  },
  {
   "cell_type": "code",
   "execution_count": 109,
   "metadata": {},
   "outputs": [],
   "source": [
    "df = pd.DataFrame(\n",
    "    timeline,\n",
    "    columns=[\"event\", \"event_date\", \"location\", \"comment\", \"latitude\", \"longitude\"],\n",
    ")"
   ]
  },
  {
   "cell_type": "code",
   "execution_count": 110,
   "metadata": {},
   "outputs": [],
   "source": [
    "df[\"date\"] = pd.to_datetime(df[\"event_date\"])"
   ]
  },
  {
   "cell_type": "code",
   "execution_count": 111,
   "metadata": {},
   "outputs": [],
   "source": [
    "df.sort_values(by=\"date\", inplace=True)"
   ]
  },
  {
   "cell_type": "code",
   "execution_count": 112,
   "metadata": {},
   "outputs": [],
   "source": [
    "# Write to CSV file\n",
    "df.to_csv(\"timeline.csv\", index=False)"
   ]
  },
  {
   "cell_type": "code",
   "execution_count": 113,
   "metadata": {},
   "outputs": [
    {
     "data": {
      "text/html": [
       "<div>\n",
       "<style scoped>\n",
       "    .dataframe tbody tr th:only-of-type {\n",
       "        vertical-align: middle;\n",
       "    }\n",
       "\n",
       "    .dataframe tbody tr th {\n",
       "        vertical-align: top;\n",
       "    }\n",
       "\n",
       "    .dataframe thead th {\n",
       "        text-align: right;\n",
       "    }\n",
       "</style>\n",
       "<table border=\"1\" class=\"dataframe\">\n",
       "  <thead>\n",
       "    <tr style=\"text-align: right;\">\n",
       "      <th></th>\n",
       "      <th>event</th>\n",
       "      <th>event_date</th>\n",
       "      <th>location</th>\n",
       "      <th>comment</th>\n",
       "      <th>latitude</th>\n",
       "      <th>longitude</th>\n",
       "      <th>date</th>\n",
       "    </tr>\n",
       "  </thead>\n",
       "  <tbody>\n",
       "    <tr>\n",
       "      <th>0</th>\n",
       "      <td>Keel Date</td>\n",
       "      <td>12-20-1937</td>\n",
       "      <td>Newport News, VA</td>\n",
       "      <td>Newport News Shipbuilding &amp; Drydock Co.</td>\n",
       "      <td>37.087082</td>\n",
       "      <td>-76.473012</td>\n",
       "      <td>1937-12-20 00:00:00</td>\n",
       "    </tr>\n",
       "    <tr>\n",
       "      <th>1</th>\n",
       "      <td>Launch Date</td>\n",
       "      <td>12-8-1938</td>\n",
       "      <td>Newport News, VA</td>\n",
       "      <td>NA</td>\n",
       "      <td>37.087082</td>\n",
       "      <td>-76.473012</td>\n",
       "      <td>1938-12-08 00:00:00</td>\n",
       "    </tr>\n",
       "    <tr>\n",
       "      <th>2</th>\n",
       "      <td>Commissioned</td>\n",
       "      <td>11-3-1939</td>\n",
       "      <td>Newport News, VA</td>\n",
       "      <td>NA</td>\n",
       "      <td>37.087082</td>\n",
       "      <td>-76.473012</td>\n",
       "      <td>1939-11-03 00:00:00</td>\n",
       "    </tr>\n",
       "    <tr>\n",
       "      <th>4</th>\n",
       "      <td>Lend Lease Act Signing</td>\n",
       "      <td>09-01-1940</td>\n",
       "      <td>Halifax, Nova Scotia</td>\n",
       "      <td>Exact date in September unknown. Check histori...</td>\n",
       "      <td>44.650000</td>\n",
       "      <td>-63.600000</td>\n",
       "      <td>1940-09-01 00:00:00</td>\n",
       "    </tr>\n",
       "    <tr>\n",
       "      <th>5</th>\n",
       "      <td>Target Practice</td>\n",
       "      <td>12-7-1941 12:53</td>\n",
       "      <td>Cosco Bay, Maine</td>\n",
       "      <td>NA</td>\n",
       "      <td>43.640800</td>\n",
       "      <td>-70.257440</td>\n",
       "      <td>1941-12-07 12:53:00</td>\n",
       "    </tr>\n",
       "    <tr>\n",
       "      <th>6</th>\n",
       "      <td>Repairs</td>\n",
       "      <td>12-17-1941</td>\n",
       "      <td>New York Navy Yard</td>\n",
       "      <td>Received orders for the Pacific sailing with t...</td>\n",
       "      <td>40.712345</td>\n",
       "      <td>-74.005531</td>\n",
       "      <td>1941-12-17 00:00:00</td>\n",
       "    </tr>\n",
       "    <tr>\n",
       "      <th>14</th>\n",
       "      <td>Submarine Encounter</td>\n",
       "      <td>12-20-1941</td>\n",
       "      <td>Pacific near Panama Canal</td>\n",
       "      <td>Attacked probable submarine shortly after ente...</td>\n",
       "      <td>5.840081</td>\n",
       "      <td>-83.121784</td>\n",
       "      <td>1941-12-20 00:00:00</td>\n",
       "    </tr>\n",
       "    <tr>\n",
       "      <th>13</th>\n",
       "      <td>Airmen Rescue</td>\n",
       "      <td>12-23-1941</td>\n",
       "      <td>Pacific</td>\n",
       "      <td>Rescued two airmen crashed after takeoff from ...</td>\n",
       "      <td>15.305380</td>\n",
       "      <td>-108.701307</td>\n",
       "      <td>1941-12-23 00:00:00</td>\n",
       "    </tr>\n",
       "    <tr>\n",
       "      <th>7</th>\n",
       "      <td>Set sail with reinforcements</td>\n",
       "      <td>01-06-1942</td>\n",
       "      <td>San Diego Naval Base</td>\n",
       "      <td>Sailed west, screening reinforcements to Samoa.</td>\n",
       "      <td>32.715278</td>\n",
       "      <td>-117.156389</td>\n",
       "      <td>1942-01-06 00:00:00</td>\n",
       "    </tr>\n",
       "    <tr>\n",
       "      <th>8</th>\n",
       "      <td>F4F Wildcat pilot rescue</td>\n",
       "      <td>01-08-1942</td>\n",
       "      <td>Pacific</td>\n",
       "      <td>F4F Wildcat crashed after takeoff from Yorktow...</td>\n",
       "      <td>23.487100</td>\n",
       "      <td>-126.938700</td>\n",
       "      <td>1942-01-08 00:00:00</td>\n",
       "    </tr>\n",
       "    <tr>\n",
       "      <th>9</th>\n",
       "      <td>Arrival in Samoa</td>\n",
       "      <td>01-20-1942</td>\n",
       "      <td>Pago Pago, Samoa</td>\n",
       "      <td>Arrived in Samoa with reinforcements.</td>\n",
       "      <td>-14.273280</td>\n",
       "      <td>-170.702970</td>\n",
       "      <td>1942-01-20 00:00:00</td>\n",
       "    </tr>\n",
       "    <tr>\n",
       "      <th>10</th>\n",
       "      <td>Depart Samoa enroute to Gilbert Islands</td>\n",
       "      <td>01-25-1942</td>\n",
       "      <td>Pago Pago, Samoa</td>\n",
       "      <td>Left Samoa for joint attack on Gilbert and Mar...</td>\n",
       "      <td>-13.974200</td>\n",
       "      <td>-170.877500</td>\n",
       "      <td>1942-01-25 00:00:00</td>\n",
       "    </tr>\n",
       "    <tr>\n",
       "      <th>11</th>\n",
       "      <td>Attack at the Gilbert Islands</td>\n",
       "      <td>02-01-1942</td>\n",
       "      <td>Gilbert Islands</td>\n",
       "      <td>Aircraft from Yorktown attack Japanese naval b...</td>\n",
       "      <td>0.058400</td>\n",
       "      <td>-174.002100</td>\n",
       "      <td>1942-02-01 00:00:00</td>\n",
       "    </tr>\n",
       "    <tr>\n",
       "      <th>12</th>\n",
       "      <td>Arrive Pearl Harbor, Hawaii</td>\n",
       "      <td>02-06-1942</td>\n",
       "      <td>Pearl Harbor, Hawaii</td>\n",
       "      <td>Repairs and resupply at Pearl Harbor.</td>\n",
       "      <td>21.339260</td>\n",
       "      <td>-157.960922</td>\n",
       "      <td>1942-02-06 00:00:00</td>\n",
       "    </tr>\n",
       "    <tr>\n",
       "      <th>3</th>\n",
       "      <td>Decommissioned</td>\n",
       "      <td>11-15-1945</td>\n",
       "      <td>San Diego, CA</td>\n",
       "      <td>NA</td>\n",
       "      <td>32.715278</td>\n",
       "      <td>-117.156389</td>\n",
       "      <td>1945-11-15 00:00:00</td>\n",
       "    </tr>\n",
       "  </tbody>\n",
       "</table>\n",
       "</div>"
      ],
      "text/plain": [
       "                                      event       event_date  \\\n",
       "0                                 Keel Date       12-20-1937   \n",
       "1                               Launch Date        12-8-1938   \n",
       "2                              Commissioned        11-3-1939   \n",
       "4                    Lend Lease Act Signing       09-01-1940   \n",
       "5                           Target Practice  12-7-1941 12:53   \n",
       "6                                   Repairs       12-17-1941   \n",
       "14                      Submarine Encounter       12-20-1941   \n",
       "13                            Airmen Rescue       12-23-1941   \n",
       "7              Set sail with reinforcements       01-06-1942   \n",
       "8                  F4F Wildcat pilot rescue       01-08-1942   \n",
       "9                          Arrival in Samoa       01-20-1942   \n",
       "10  Depart Samoa enroute to Gilbert Islands       01-25-1942   \n",
       "11            Attack at the Gilbert Islands       02-01-1942   \n",
       "12              Arrive Pearl Harbor, Hawaii       02-06-1942   \n",
       "3                            Decommissioned       11-15-1945   \n",
       "\n",
       "                     location  \\\n",
       "0            Newport News, VA   \n",
       "1            Newport News, VA   \n",
       "2            Newport News, VA   \n",
       "4        Halifax, Nova Scotia   \n",
       "5            Cosco Bay, Maine   \n",
       "6          New York Navy Yard   \n",
       "14  Pacific near Panama Canal   \n",
       "13                    Pacific   \n",
       "7        San Diego Naval Base   \n",
       "8                     Pacific   \n",
       "9            Pago Pago, Samoa   \n",
       "10           Pago Pago, Samoa   \n",
       "11            Gilbert Islands   \n",
       "12       Pearl Harbor, Hawaii   \n",
       "3               San Diego, CA   \n",
       "\n",
       "                                              comment   latitude   longitude  \\\n",
       "0             Newport News Shipbuilding & Drydock Co.  37.087082  -76.473012   \n",
       "1                                                  NA  37.087082  -76.473012   \n",
       "2                                                  NA  37.087082  -76.473012   \n",
       "4   Exact date in September unknown. Check histori...  44.650000  -63.600000   \n",
       "5                                                  NA  43.640800  -70.257440   \n",
       "6   Received orders for the Pacific sailing with t...  40.712345  -74.005531   \n",
       "14  Attacked probable submarine shortly after ente...   5.840081  -83.121784   \n",
       "13  Rescued two airmen crashed after takeoff from ...  15.305380 -108.701307   \n",
       "7     Sailed west, screening reinforcements to Samoa.  32.715278 -117.156389   \n",
       "8   F4F Wildcat crashed after takeoff from Yorktow...  23.487100 -126.938700   \n",
       "9               Arrived in Samoa with reinforcements. -14.273280 -170.702970   \n",
       "10  Left Samoa for joint attack on Gilbert and Mar... -13.974200 -170.877500   \n",
       "11  Aircraft from Yorktown attack Japanese naval b...   0.058400 -174.002100   \n",
       "12              Repairs and resupply at Pearl Harbor.  21.339260 -157.960922   \n",
       "3                                                  NA  32.715278 -117.156389   \n",
       "\n",
       "                  date  \n",
       "0  1937-12-20 00:00:00  \n",
       "1  1938-12-08 00:00:00  \n",
       "2  1939-11-03 00:00:00  \n",
       "4  1940-09-01 00:00:00  \n",
       "5  1941-12-07 12:53:00  \n",
       "6  1941-12-17 00:00:00  \n",
       "14 1941-12-20 00:00:00  \n",
       "13 1941-12-23 00:00:00  \n",
       "7  1942-01-06 00:00:00  \n",
       "8  1942-01-08 00:00:00  \n",
       "9  1942-01-20 00:00:00  \n",
       "10 1942-01-25 00:00:00  \n",
       "11 1942-02-01 00:00:00  \n",
       "12 1942-02-06 00:00:00  \n",
       "3  1945-11-15 00:00:00  "
      ]
     },
     "execution_count": 113,
     "metadata": {},
     "output_type": "execute_result"
    }
   ],
   "source": [
    "df"
   ]
  },
  {
   "cell_type": "code",
   "execution_count": 114,
   "metadata": {},
   "outputs": [
    {
     "data": {
      "application/vnd.plotly.v1+json": {
       "config": {
        "plotlyServerURL": "https://plot.ly"
       },
       "data": [
        {
         "customdata": [
          [
           "1945-11-15T00:00:00",
           "San Diego, CA",
           "NA"
          ]
         ],
         "hovertemplate": "<b>%{hovertext}</b><br><br>event_date=11-15-1945<br>latitude=%{lat}<br>longitude=%{lon}<br>date=%{customdata[0]}<br>location=%{customdata[1]}<br>comment=%{customdata[2]}<extra></extra>",
         "hovertext": [
          "Decommissioned"
         ],
         "lat": [
          32.7152778
         ],
         "legendgroup": "",
         "lon": [
          -117.1563889
         ],
         "marker": {
          "color": "#636efa",
          "size": 20
         },
         "mode": "markers",
         "name": "",
         "showlegend": false,
         "subplot": "mapbox",
         "type": "scattermapbox"
        }
       ],
       "frames": [
        {
         "data": [
          {
           "customdata": [
            [
             "1937-12-20T00:00:00",
             "Newport News, VA",
             "Newport News Shipbuilding & Drydock Co."
            ]
           ],
           "hovertemplate": "<b>%{hovertext}</b><br><br>event_date=12-20-1937<br>latitude=%{lat}<br>longitude=%{lon}<br>date=%{customdata[0]}<br>location=%{customdata[1]}<br>comment=%{customdata[2]}<extra></extra>",
           "hovertext": [
            "Keel Date"
           ],
           "lat": [
            37.0870821
           ],
           "legendgroup": "",
           "lon": [
            -76.4730122
           ],
           "marker": {
            "color": "#636efa"
           },
           "mode": "markers",
           "name": "",
           "showlegend": false,
           "subplot": "mapbox",
           "type": "scattermapbox"
          }
         ],
         "name": "12-20-1937"
        },
        {
         "data": [
          {
           "customdata": [
            [
             "1938-12-08T00:00:00",
             "Newport News, VA",
             "NA"
            ]
           ],
           "hovertemplate": "<b>%{hovertext}</b><br><br>event_date=12-8-1938<br>latitude=%{lat}<br>longitude=%{lon}<br>date=%{customdata[0]}<br>location=%{customdata[1]}<br>comment=%{customdata[2]}<extra></extra>",
           "hovertext": [
            "Launch Date"
           ],
           "lat": [
            37.0870821
           ],
           "legendgroup": "",
           "lon": [
            -76.4730122
           ],
           "marker": {
            "color": "#636efa"
           },
           "mode": "markers",
           "name": "",
           "showlegend": false,
           "subplot": "mapbox",
           "type": "scattermapbox"
          }
         ],
         "name": "12-8-1938"
        },
        {
         "data": [
          {
           "customdata": [
            [
             "1939-11-03T00:00:00",
             "Newport News, VA",
             "NA"
            ]
           ],
           "hovertemplate": "<b>%{hovertext}</b><br><br>event_date=11-3-1939<br>latitude=%{lat}<br>longitude=%{lon}<br>date=%{customdata[0]}<br>location=%{customdata[1]}<br>comment=%{customdata[2]}<extra></extra>",
           "hovertext": [
            "Commissioned"
           ],
           "lat": [
            37.0870821
           ],
           "legendgroup": "",
           "lon": [
            -76.4730122
           ],
           "marker": {
            "color": "#636efa"
           },
           "mode": "markers",
           "name": "",
           "showlegend": false,
           "subplot": "mapbox",
           "type": "scattermapbox"
          }
         ],
         "name": "11-3-1939"
        },
        {
         "data": [
          {
           "customdata": [
            [
             "1940-09-01T00:00:00",
             "Halifax, Nova Scotia",
             "Exact date in September unknown. Check historical record on Lend-Lease Act."
            ]
           ],
           "hovertemplate": "<b>%{hovertext}</b><br><br>event_date=09-01-1940<br>latitude=%{lat}<br>longitude=%{lon}<br>date=%{customdata[0]}<br>location=%{customdata[1]}<br>comment=%{customdata[2]}<extra></extra>",
           "hovertext": [
            "Lend Lease Act Signing"
           ],
           "lat": [
            44.65
           ],
           "legendgroup": "",
           "lon": [
            -63.6
           ],
           "marker": {
            "color": "#636efa"
           },
           "mode": "markers",
           "name": "",
           "showlegend": false,
           "subplot": "mapbox",
           "type": "scattermapbox"
          }
         ],
         "name": "09-01-1940"
        },
        {
         "data": [
          {
           "customdata": [
            [
             "1941-12-07T12:53:00",
             "Cosco Bay, Maine",
             "NA"
            ]
           ],
           "hovertemplate": "<b>%{hovertext}</b><br><br>event_date=12-7-1941 12:53<br>latitude=%{lat}<br>longitude=%{lon}<br>date=%{customdata[0]}<br>location=%{customdata[1]}<br>comment=%{customdata[2]}<extra></extra>",
           "hovertext": [
            "Target Practice"
           ],
           "lat": [
            43.6408
           ],
           "legendgroup": "",
           "lon": [
            -70.25744
           ],
           "marker": {
            "color": "#636efa"
           },
           "mode": "markers",
           "name": "",
           "showlegend": false,
           "subplot": "mapbox",
           "type": "scattermapbox"
          }
         ],
         "name": "12-7-1941 12:53"
        },
        {
         "data": [
          {
           "customdata": [
            [
             "1941-12-17T00:00:00",
             "New York Navy Yard",
             "Received orders for the Pacific sailing with the carrier Yorktown and four other destroyers."
            ]
           ],
           "hovertemplate": "<b>%{hovertext}</b><br><br>event_date=12-17-1941<br>latitude=%{lat}<br>longitude=%{lon}<br>date=%{customdata[0]}<br>location=%{customdata[1]}<br>comment=%{customdata[2]}<extra></extra>",
           "hovertext": [
            "Repairs"
           ],
           "lat": [
            40.712345
           ],
           "legendgroup": "",
           "lon": [
            -74.005531
           ],
           "marker": {
            "color": "#636efa"
           },
           "mode": "markers",
           "name": "",
           "showlegend": false,
           "subplot": "mapbox",
           "type": "scattermapbox"
          }
         ],
         "name": "12-17-1941"
        },
        {
         "data": [
          {
           "customdata": [
            [
             "1941-12-20T00:00:00",
             "Pacific near Panama Canal",
             "Attacked probable submarine shortly after entering Pacific Ocean. Location uncertain."
            ]
           ],
           "hovertemplate": "<b>%{hovertext}</b><br><br>event_date=12-20-1941<br>latitude=%{lat}<br>longitude=%{lon}<br>date=%{customdata[0]}<br>location=%{customdata[1]}<br>comment=%{customdata[2]}<extra></extra>",
           "hovertext": [
            "Submarine Encounter"
           ],
           "lat": [
            5.840081
           ],
           "legendgroup": "",
           "lon": [
            -83.121784
           ],
           "marker": {
            "color": "#636efa"
           },
           "mode": "markers",
           "name": "",
           "showlegend": false,
           "subplot": "mapbox",
           "type": "scattermapbox"
          }
         ],
         "name": "12-20-1941"
        },
        {
         "data": [
          {
           "customdata": [
            [
             "1941-12-23T00:00:00",
             "Pacific",
             "Rescued two airmen crashed after takeoff from Yorktown. Location uncertain."
            ]
           ],
           "hovertemplate": "<b>%{hovertext}</b><br><br>event_date=12-23-1941<br>latitude=%{lat}<br>longitude=%{lon}<br>date=%{customdata[0]}<br>location=%{customdata[1]}<br>comment=%{customdata[2]}<extra></extra>",
           "hovertext": [
            "Airmen Rescue"
           ],
           "lat": [
            15.30538
           ],
           "legendgroup": "",
           "lon": [
            -108.701307
           ],
           "marker": {
            "color": "#636efa"
           },
           "mode": "markers",
           "name": "",
           "showlegend": false,
           "subplot": "mapbox",
           "type": "scattermapbox"
          }
         ],
         "name": "12-23-1941"
        },
        {
         "data": [
          {
           "customdata": [
            [
             "1942-01-06T00:00:00",
             "San Diego Naval Base",
             "Sailed west, screening reinforcements to Samoa."
            ]
           ],
           "hovertemplate": "<b>%{hovertext}</b><br><br>event_date=01-06-1942<br>latitude=%{lat}<br>longitude=%{lon}<br>date=%{customdata[0]}<br>location=%{customdata[1]}<br>comment=%{customdata[2]}<extra></extra>",
           "hovertext": [
            "Set sail with reinforcements"
           ],
           "lat": [
            32.7152778
           ],
           "legendgroup": "",
           "lon": [
            -117.1563889
           ],
           "marker": {
            "color": "#636efa"
           },
           "mode": "markers",
           "name": "",
           "showlegend": false,
           "subplot": "mapbox",
           "type": "scattermapbox"
          }
         ],
         "name": "01-06-1942"
        },
        {
         "data": [
          {
           "customdata": [
            [
             "1942-01-08T00:00:00",
             "Pacific",
             "F4F Wildcat crashed after takeoff from Yorktown. Russell rescued pilot."
            ]
           ],
           "hovertemplate": "<b>%{hovertext}</b><br><br>event_date=01-08-1942<br>latitude=%{lat}<br>longitude=%{lon}<br>date=%{customdata[0]}<br>location=%{customdata[1]}<br>comment=%{customdata[2]}<extra></extra>",
           "hovertext": [
            "F4F Wildcat pilot rescue"
           ],
           "lat": [
            23.4871
           ],
           "legendgroup": "",
           "lon": [
            -126.9387
           ],
           "marker": {
            "color": "#636efa"
           },
           "mode": "markers",
           "name": "",
           "showlegend": false,
           "subplot": "mapbox",
           "type": "scattermapbox"
          }
         ],
         "name": "01-08-1942"
        },
        {
         "data": [
          {
           "customdata": [
            [
             "1942-01-20T00:00:00",
             "Pago Pago, Samoa",
             "Arrived in Samoa with reinforcements."
            ]
           ],
           "hovertemplate": "<b>%{hovertext}</b><br><br>event_date=01-20-1942<br>latitude=%{lat}<br>longitude=%{lon}<br>date=%{customdata[0]}<br>location=%{customdata[1]}<br>comment=%{customdata[2]}<extra></extra>",
           "hovertext": [
            "Arrival in Samoa"
           ],
           "lat": [
            -14.27328
           ],
           "legendgroup": "",
           "lon": [
            -170.70297
           ],
           "marker": {
            "color": "#636efa"
           },
           "mode": "markers",
           "name": "",
           "showlegend": false,
           "subplot": "mapbox",
           "type": "scattermapbox"
          }
         ],
         "name": "01-20-1942"
        },
        {
         "data": [
          {
           "customdata": [
            [
             "1942-01-25T00:00:00",
             "Pago Pago, Samoa",
             "Left Samoa for joint attack on Gilbert and Marshall Islands with Yorktown and Enterprise task forces."
            ]
           ],
           "hovertemplate": "<b>%{hovertext}</b><br><br>event_date=01-25-1942<br>latitude=%{lat}<br>longitude=%{lon}<br>date=%{customdata[0]}<br>location=%{customdata[1]}<br>comment=%{customdata[2]}<extra></extra>",
           "hovertext": [
            "Depart Samoa enroute to Gilbert Islands"
           ],
           "lat": [
            -13.9742
           ],
           "legendgroup": "",
           "lon": [
            -170.8775
           ],
           "marker": {
            "color": "#636efa"
           },
           "mode": "markers",
           "name": "",
           "showlegend": false,
           "subplot": "mapbox",
           "type": "scattermapbox"
          }
         ],
         "name": "01-25-1942"
        },
        {
         "data": [
          {
           "customdata": [
            [
             "1942-02-01T00:00:00",
             "Gilbert Islands",
             "Aircraft from Yorktown attack Japanese naval bases. Kiribati, Tarawa."
            ]
           ],
           "hovertemplate": "<b>%{hovertext}</b><br><br>event_date=02-01-1942<br>latitude=%{lat}<br>longitude=%{lon}<br>date=%{customdata[0]}<br>location=%{customdata[1]}<br>comment=%{customdata[2]}<extra></extra>",
           "hovertext": [
            "Attack at the Gilbert Islands"
           ],
           "lat": [
            0.0584
           ],
           "legendgroup": "",
           "lon": [
            -174.0021
           ],
           "marker": {
            "color": "#636efa"
           },
           "mode": "markers",
           "name": "",
           "showlegend": false,
           "subplot": "mapbox",
           "type": "scattermapbox"
          }
         ],
         "name": "02-01-1942"
        },
        {
         "data": [
          {
           "customdata": [
            [
             "1942-02-06T00:00:00",
             "Pearl Harbor, Hawaii",
             "Repairs and resupply at Pearl Harbor."
            ]
           ],
           "hovertemplate": "<b>%{hovertext}</b><br><br>event_date=02-06-1942<br>latitude=%{lat}<br>longitude=%{lon}<br>date=%{customdata[0]}<br>location=%{customdata[1]}<br>comment=%{customdata[2]}<extra></extra>",
           "hovertext": [
            "Arrive Pearl Harbor, Hawaii"
           ],
           "lat": [
            21.33926
           ],
           "legendgroup": "",
           "lon": [
            -157.960922
           ],
           "marker": {
            "color": "#636efa"
           },
           "mode": "markers",
           "name": "",
           "showlegend": false,
           "subplot": "mapbox",
           "type": "scattermapbox"
          }
         ],
         "name": "02-06-1942"
        },
        {
         "data": [
          {
           "customdata": [
            [
             "1945-11-15T00:00:00",
             "San Diego, CA",
             "NA"
            ]
           ],
           "hovertemplate": "<b>%{hovertext}</b><br><br>event_date=11-15-1945<br>latitude=%{lat}<br>longitude=%{lon}<br>date=%{customdata[0]}<br>location=%{customdata[1]}<br>comment=%{customdata[2]}<extra></extra>",
           "hovertext": [
            "Decommissioned"
           ],
           "lat": [
            32.7152778
           ],
           "legendgroup": "",
           "lon": [
            -117.1563889
           ],
           "marker": {
            "color": "#636efa"
           },
           "mode": "markers",
           "name": "",
           "showlegend": false,
           "subplot": "mapbox",
           "type": "scattermapbox"
          }
         ],
         "name": "11-15-1945"
        }
       ],
       "layout": {
        "height": 900,
        "legend": {
         "tracegroupgap": 0
        },
        "mapbox": {
         "accesstoken": "pk.eyJ1IjoiZG12YW5jZSIsImEiOiJja2Y5dzYyd3kwYzB4MnVwZWxnMDluY3YyIn0.bS9XNzxQf1U9cm9Sey2lHg",
         "bearing": 0,
         "center": {
          "lat": 26.591420506321782,
          "lon": -133.12486169811342
         },
         "domain": {
          "x": [
           0,
           1
          ],
          "y": [
           0,
           1
          ]
         },
         "pitch": 0,
         "style": "basic",
         "zoom": 2.316422156207242
        },
        "sliders": [
         {
          "active": 14,
          "currentvalue": {
           "prefix": "event_date="
          },
          "len": 0.9,
          "pad": {
           "b": 10,
           "t": 60
          },
          "steps": [
           {
            "args": [
             [
              "12-20-1937"
             ],
             {
              "frame": {
               "duration": 0,
               "redraw": true
              },
              "fromcurrent": true,
              "mode": "immediate",
              "transition": {
               "duration": 0,
               "easing": "linear"
              }
             }
            ],
            "label": "12-20-1937",
            "method": "animate"
           },
           {
            "args": [
             [
              "12-8-1938"
             ],
             {
              "frame": {
               "duration": 0,
               "redraw": true
              },
              "fromcurrent": true,
              "mode": "immediate",
              "transition": {
               "duration": 0,
               "easing": "linear"
              }
             }
            ],
            "label": "12-8-1938",
            "method": "animate"
           },
           {
            "args": [
             [
              "11-3-1939"
             ],
             {
              "frame": {
               "duration": 0,
               "redraw": true
              },
              "fromcurrent": true,
              "mode": "immediate",
              "transition": {
               "duration": 0,
               "easing": "linear"
              }
             }
            ],
            "label": "11-3-1939",
            "method": "animate"
           },
           {
            "args": [
             [
              "09-01-1940"
             ],
             {
              "frame": {
               "duration": 0,
               "redraw": true
              },
              "fromcurrent": true,
              "mode": "immediate",
              "transition": {
               "duration": 0,
               "easing": "linear"
              }
             }
            ],
            "label": "09-01-1940",
            "method": "animate"
           },
           {
            "args": [
             [
              "12-7-1941 12:53"
             ],
             {
              "frame": {
               "duration": 0,
               "redraw": true
              },
              "fromcurrent": true,
              "mode": "immediate",
              "transition": {
               "duration": 0,
               "easing": "linear"
              }
             }
            ],
            "label": "12-7-1941 12:53",
            "method": "animate"
           },
           {
            "args": [
             [
              "12-17-1941"
             ],
             {
              "frame": {
               "duration": 0,
               "redraw": true
              },
              "fromcurrent": true,
              "mode": "immediate",
              "transition": {
               "duration": 0,
               "easing": "linear"
              }
             }
            ],
            "label": "12-17-1941",
            "method": "animate"
           },
           {
            "args": [
             [
              "12-20-1941"
             ],
             {
              "frame": {
               "duration": 0,
               "redraw": true
              },
              "fromcurrent": true,
              "mode": "immediate",
              "transition": {
               "duration": 0,
               "easing": "linear"
              }
             }
            ],
            "label": "12-20-1941",
            "method": "animate"
           },
           {
            "args": [
             [
              "12-23-1941"
             ],
             {
              "frame": {
               "duration": 0,
               "redraw": true
              },
              "fromcurrent": true,
              "mode": "immediate",
              "transition": {
               "duration": 0,
               "easing": "linear"
              }
             }
            ],
            "label": "12-23-1941",
            "method": "animate"
           },
           {
            "args": [
             [
              "01-06-1942"
             ],
             {
              "frame": {
               "duration": 0,
               "redraw": true
              },
              "fromcurrent": true,
              "mode": "immediate",
              "transition": {
               "duration": 0,
               "easing": "linear"
              }
             }
            ],
            "label": "01-06-1942",
            "method": "animate"
           },
           {
            "args": [
             [
              "01-08-1942"
             ],
             {
              "frame": {
               "duration": 0,
               "redraw": true
              },
              "fromcurrent": true,
              "mode": "immediate",
              "transition": {
               "duration": 0,
               "easing": "linear"
              }
             }
            ],
            "label": "01-08-1942",
            "method": "animate"
           },
           {
            "args": [
             [
              "01-20-1942"
             ],
             {
              "frame": {
               "duration": 0,
               "redraw": true
              },
              "fromcurrent": true,
              "mode": "immediate",
              "transition": {
               "duration": 0,
               "easing": "linear"
              }
             }
            ],
            "label": "01-20-1942",
            "method": "animate"
           },
           {
            "args": [
             [
              "01-25-1942"
             ],
             {
              "frame": {
               "duration": 0,
               "redraw": true
              },
              "fromcurrent": true,
              "mode": "immediate",
              "transition": {
               "duration": 0,
               "easing": "linear"
              }
             }
            ],
            "label": "01-25-1942",
            "method": "animate"
           },
           {
            "args": [
             [
              "02-01-1942"
             ],
             {
              "frame": {
               "duration": 0,
               "redraw": true
              },
              "fromcurrent": true,
              "mode": "immediate",
              "transition": {
               "duration": 0,
               "easing": "linear"
              }
             }
            ],
            "label": "02-01-1942",
            "method": "animate"
           },
           {
            "args": [
             [
              "02-06-1942"
             ],
             {
              "frame": {
               "duration": 0,
               "redraw": true
              },
              "fromcurrent": true,
              "mode": "immediate",
              "transition": {
               "duration": 0,
               "easing": "linear"
              }
             }
            ],
            "label": "02-06-1942",
            "method": "animate"
           },
           {
            "args": [
             [
              "11-15-1945"
             ],
             {
              "frame": {
               "duration": 0,
               "redraw": true
              },
              "fromcurrent": true,
              "mode": "immediate",
              "transition": {
               "duration": 0,
               "easing": "linear"
              }
             }
            ],
            "label": "11-15-1945",
            "method": "animate"
           }
          ],
          "x": 0.1,
          "xanchor": "left",
          "y": 0,
          "yanchor": "top"
         }
        ],
        "template": {
         "data": {
          "bar": [
           {
            "error_x": {
             "color": "#2a3f5f"
            },
            "error_y": {
             "color": "#2a3f5f"
            },
            "marker": {
             "line": {
              "color": "#E5ECF6",
              "width": 0.5
             }
            },
            "type": "bar"
           }
          ],
          "barpolar": [
           {
            "marker": {
             "line": {
              "color": "#E5ECF6",
              "width": 0.5
             }
            },
            "type": "barpolar"
           }
          ],
          "carpet": [
           {
            "aaxis": {
             "endlinecolor": "#2a3f5f",
             "gridcolor": "white",
             "linecolor": "white",
             "minorgridcolor": "white",
             "startlinecolor": "#2a3f5f"
            },
            "baxis": {
             "endlinecolor": "#2a3f5f",
             "gridcolor": "white",
             "linecolor": "white",
             "minorgridcolor": "white",
             "startlinecolor": "#2a3f5f"
            },
            "type": "carpet"
           }
          ],
          "choropleth": [
           {
            "colorbar": {
             "outlinewidth": 0,
             "ticks": ""
            },
            "type": "choropleth"
           }
          ],
          "contour": [
           {
            "colorbar": {
             "outlinewidth": 0,
             "ticks": ""
            },
            "colorscale": [
             [
              0,
              "#0d0887"
             ],
             [
              0.1111111111111111,
              "#46039f"
             ],
             [
              0.2222222222222222,
              "#7201a8"
             ],
             [
              0.3333333333333333,
              "#9c179e"
             ],
             [
              0.4444444444444444,
              "#bd3786"
             ],
             [
              0.5555555555555556,
              "#d8576b"
             ],
             [
              0.6666666666666666,
              "#ed7953"
             ],
             [
              0.7777777777777778,
              "#fb9f3a"
             ],
             [
              0.8888888888888888,
              "#fdca26"
             ],
             [
              1,
              "#f0f921"
             ]
            ],
            "type": "contour"
           }
          ],
          "contourcarpet": [
           {
            "colorbar": {
             "outlinewidth": 0,
             "ticks": ""
            },
            "type": "contourcarpet"
           }
          ],
          "heatmap": [
           {
            "colorbar": {
             "outlinewidth": 0,
             "ticks": ""
            },
            "colorscale": [
             [
              0,
              "#0d0887"
             ],
             [
              0.1111111111111111,
              "#46039f"
             ],
             [
              0.2222222222222222,
              "#7201a8"
             ],
             [
              0.3333333333333333,
              "#9c179e"
             ],
             [
              0.4444444444444444,
              "#bd3786"
             ],
             [
              0.5555555555555556,
              "#d8576b"
             ],
             [
              0.6666666666666666,
              "#ed7953"
             ],
             [
              0.7777777777777778,
              "#fb9f3a"
             ],
             [
              0.8888888888888888,
              "#fdca26"
             ],
             [
              1,
              "#f0f921"
             ]
            ],
            "type": "heatmap"
           }
          ],
          "heatmapgl": [
           {
            "colorbar": {
             "outlinewidth": 0,
             "ticks": ""
            },
            "colorscale": [
             [
              0,
              "#0d0887"
             ],
             [
              0.1111111111111111,
              "#46039f"
             ],
             [
              0.2222222222222222,
              "#7201a8"
             ],
             [
              0.3333333333333333,
              "#9c179e"
             ],
             [
              0.4444444444444444,
              "#bd3786"
             ],
             [
              0.5555555555555556,
              "#d8576b"
             ],
             [
              0.6666666666666666,
              "#ed7953"
             ],
             [
              0.7777777777777778,
              "#fb9f3a"
             ],
             [
              0.8888888888888888,
              "#fdca26"
             ],
             [
              1,
              "#f0f921"
             ]
            ],
            "type": "heatmapgl"
           }
          ],
          "histogram": [
           {
            "marker": {
             "colorbar": {
              "outlinewidth": 0,
              "ticks": ""
             }
            },
            "type": "histogram"
           }
          ],
          "histogram2d": [
           {
            "colorbar": {
             "outlinewidth": 0,
             "ticks": ""
            },
            "colorscale": [
             [
              0,
              "#0d0887"
             ],
             [
              0.1111111111111111,
              "#46039f"
             ],
             [
              0.2222222222222222,
              "#7201a8"
             ],
             [
              0.3333333333333333,
              "#9c179e"
             ],
             [
              0.4444444444444444,
              "#bd3786"
             ],
             [
              0.5555555555555556,
              "#d8576b"
             ],
             [
              0.6666666666666666,
              "#ed7953"
             ],
             [
              0.7777777777777778,
              "#fb9f3a"
             ],
             [
              0.8888888888888888,
              "#fdca26"
             ],
             [
              1,
              "#f0f921"
             ]
            ],
            "type": "histogram2d"
           }
          ],
          "histogram2dcontour": [
           {
            "colorbar": {
             "outlinewidth": 0,
             "ticks": ""
            },
            "colorscale": [
             [
              0,
              "#0d0887"
             ],
             [
              0.1111111111111111,
              "#46039f"
             ],
             [
              0.2222222222222222,
              "#7201a8"
             ],
             [
              0.3333333333333333,
              "#9c179e"
             ],
             [
              0.4444444444444444,
              "#bd3786"
             ],
             [
              0.5555555555555556,
              "#d8576b"
             ],
             [
              0.6666666666666666,
              "#ed7953"
             ],
             [
              0.7777777777777778,
              "#fb9f3a"
             ],
             [
              0.8888888888888888,
              "#fdca26"
             ],
             [
              1,
              "#f0f921"
             ]
            ],
            "type": "histogram2dcontour"
           }
          ],
          "mesh3d": [
           {
            "colorbar": {
             "outlinewidth": 0,
             "ticks": ""
            },
            "type": "mesh3d"
           }
          ],
          "parcoords": [
           {
            "line": {
             "colorbar": {
              "outlinewidth": 0,
              "ticks": ""
             }
            },
            "type": "parcoords"
           }
          ],
          "pie": [
           {
            "automargin": true,
            "type": "pie"
           }
          ],
          "scatter": [
           {
            "marker": {
             "colorbar": {
              "outlinewidth": 0,
              "ticks": ""
             }
            },
            "type": "scatter"
           }
          ],
          "scatter3d": [
           {
            "line": {
             "colorbar": {
              "outlinewidth": 0,
              "ticks": ""
             }
            },
            "marker": {
             "colorbar": {
              "outlinewidth": 0,
              "ticks": ""
             }
            },
            "type": "scatter3d"
           }
          ],
          "scattercarpet": [
           {
            "marker": {
             "colorbar": {
              "outlinewidth": 0,
              "ticks": ""
             }
            },
            "type": "scattercarpet"
           }
          ],
          "scattergeo": [
           {
            "marker": {
             "colorbar": {
              "outlinewidth": 0,
              "ticks": ""
             }
            },
            "type": "scattergeo"
           }
          ],
          "scattergl": [
           {
            "marker": {
             "colorbar": {
              "outlinewidth": 0,
              "ticks": ""
             }
            },
            "type": "scattergl"
           }
          ],
          "scattermapbox": [
           {
            "marker": {
             "colorbar": {
              "outlinewidth": 0,
              "ticks": ""
             }
            },
            "type": "scattermapbox"
           }
          ],
          "scatterpolar": [
           {
            "marker": {
             "colorbar": {
              "outlinewidth": 0,
              "ticks": ""
             }
            },
            "type": "scatterpolar"
           }
          ],
          "scatterpolargl": [
           {
            "marker": {
             "colorbar": {
              "outlinewidth": 0,
              "ticks": ""
             }
            },
            "type": "scatterpolargl"
           }
          ],
          "scatterternary": [
           {
            "marker": {
             "colorbar": {
              "outlinewidth": 0,
              "ticks": ""
             }
            },
            "type": "scatterternary"
           }
          ],
          "surface": [
           {
            "colorbar": {
             "outlinewidth": 0,
             "ticks": ""
            },
            "colorscale": [
             [
              0,
              "#0d0887"
             ],
             [
              0.1111111111111111,
              "#46039f"
             ],
             [
              0.2222222222222222,
              "#7201a8"
             ],
             [
              0.3333333333333333,
              "#9c179e"
             ],
             [
              0.4444444444444444,
              "#bd3786"
             ],
             [
              0.5555555555555556,
              "#d8576b"
             ],
             [
              0.6666666666666666,
              "#ed7953"
             ],
             [
              0.7777777777777778,
              "#fb9f3a"
             ],
             [
              0.8888888888888888,
              "#fdca26"
             ],
             [
              1,
              "#f0f921"
             ]
            ],
            "type": "surface"
           }
          ],
          "table": [
           {
            "cells": {
             "fill": {
              "color": "#EBF0F8"
             },
             "line": {
              "color": "white"
             }
            },
            "header": {
             "fill": {
              "color": "#C8D4E3"
             },
             "line": {
              "color": "white"
             }
            },
            "type": "table"
           }
          ]
         },
         "layout": {
          "annotationdefaults": {
           "arrowcolor": "#2a3f5f",
           "arrowhead": 0,
           "arrowwidth": 1
          },
          "autotypenumbers": "strict",
          "coloraxis": {
           "colorbar": {
            "outlinewidth": 0,
            "ticks": ""
           }
          },
          "colorscale": {
           "diverging": [
            [
             0,
             "#8e0152"
            ],
            [
             0.1,
             "#c51b7d"
            ],
            [
             0.2,
             "#de77ae"
            ],
            [
             0.3,
             "#f1b6da"
            ],
            [
             0.4,
             "#fde0ef"
            ],
            [
             0.5,
             "#f7f7f7"
            ],
            [
             0.6,
             "#e6f5d0"
            ],
            [
             0.7,
             "#b8e186"
            ],
            [
             0.8,
             "#7fbc41"
            ],
            [
             0.9,
             "#4d9221"
            ],
            [
             1,
             "#276419"
            ]
           ],
           "sequential": [
            [
             0,
             "#0d0887"
            ],
            [
             0.1111111111111111,
             "#46039f"
            ],
            [
             0.2222222222222222,
             "#7201a8"
            ],
            [
             0.3333333333333333,
             "#9c179e"
            ],
            [
             0.4444444444444444,
             "#bd3786"
            ],
            [
             0.5555555555555556,
             "#d8576b"
            ],
            [
             0.6666666666666666,
             "#ed7953"
            ],
            [
             0.7777777777777778,
             "#fb9f3a"
            ],
            [
             0.8888888888888888,
             "#fdca26"
            ],
            [
             1,
             "#f0f921"
            ]
           ],
           "sequentialminus": [
            [
             0,
             "#0d0887"
            ],
            [
             0.1111111111111111,
             "#46039f"
            ],
            [
             0.2222222222222222,
             "#7201a8"
            ],
            [
             0.3333333333333333,
             "#9c179e"
            ],
            [
             0.4444444444444444,
             "#bd3786"
            ],
            [
             0.5555555555555556,
             "#d8576b"
            ],
            [
             0.6666666666666666,
             "#ed7953"
            ],
            [
             0.7777777777777778,
             "#fb9f3a"
            ],
            [
             0.8888888888888888,
             "#fdca26"
            ],
            [
             1,
             "#f0f921"
            ]
           ]
          },
          "colorway": [
           "#636efa",
           "#EF553B",
           "#00cc96",
           "#ab63fa",
           "#FFA15A",
           "#19d3f3",
           "#FF6692",
           "#B6E880",
           "#FF97FF",
           "#FECB52"
          ],
          "font": {
           "color": "#2a3f5f"
          },
          "geo": {
           "bgcolor": "white",
           "lakecolor": "white",
           "landcolor": "#E5ECF6",
           "showlakes": true,
           "showland": true,
           "subunitcolor": "white"
          },
          "hoverlabel": {
           "align": "left"
          },
          "hovermode": "closest",
          "mapbox": {
           "style": "light"
          },
          "paper_bgcolor": "white",
          "plot_bgcolor": "#E5ECF6",
          "polar": {
           "angularaxis": {
            "gridcolor": "white",
            "linecolor": "white",
            "ticks": ""
           },
           "bgcolor": "#E5ECF6",
           "radialaxis": {
            "gridcolor": "white",
            "linecolor": "white",
            "ticks": ""
           }
          },
          "scene": {
           "xaxis": {
            "backgroundcolor": "#E5ECF6",
            "gridcolor": "white",
            "gridwidth": 2,
            "linecolor": "white",
            "showbackground": true,
            "ticks": "",
            "zerolinecolor": "white"
           },
           "yaxis": {
            "backgroundcolor": "#E5ECF6",
            "gridcolor": "white",
            "gridwidth": 2,
            "linecolor": "white",
            "showbackground": true,
            "ticks": "",
            "zerolinecolor": "white"
           },
           "zaxis": {
            "backgroundcolor": "#E5ECF6",
            "gridcolor": "white",
            "gridwidth": 2,
            "linecolor": "white",
            "showbackground": true,
            "ticks": "",
            "zerolinecolor": "white"
           }
          },
          "shapedefaults": {
           "line": {
            "color": "#2a3f5f"
           }
          },
          "ternary": {
           "aaxis": {
            "gridcolor": "white",
            "linecolor": "white",
            "ticks": ""
           },
           "baxis": {
            "gridcolor": "white",
            "linecolor": "white",
            "ticks": ""
           },
           "bgcolor": "#E5ECF6",
           "caxis": {
            "gridcolor": "white",
            "linecolor": "white",
            "ticks": ""
           }
          },
          "title": {
           "x": 0.05
          },
          "xaxis": {
           "automargin": true,
           "gridcolor": "white",
           "linecolor": "white",
           "ticks": "",
           "title": {
            "standoff": 15
           },
           "zerolinecolor": "white",
           "zerolinewidth": 2
          },
          "yaxis": {
           "automargin": true,
           "gridcolor": "white",
           "linecolor": "white",
           "ticks": "",
           "title": {
            "standoff": 15
           },
           "zerolinecolor": "white",
           "zerolinewidth": 2
          }
         }
        },
        "title": {
         "text": "Events and Places of the USS Russell DD 414 - WWII"
        },
        "updatemenus": [
         {
          "active": 0,
          "buttons": [
           {
            "args": [
             null,
             {
              "frame": {
               "duration": 500,
               "redraw": true
              },
              "fromcurrent": true,
              "mode": "immediate",
              "transition": {
               "duration": 500,
               "easing": "linear"
              }
             }
            ],
            "label": "&#9654;",
            "method": "animate"
           },
           {
            "args": [
             [
              null
             ],
             {
              "frame": {
               "duration": 0,
               "redraw": true
              },
              "fromcurrent": true,
              "mode": "immediate",
              "transition": {
               "duration": 0,
               "easing": "linear"
              }
             }
            ],
            "label": "&#9724;",
            "method": "animate"
           }
          ],
          "direction": "left",
          "pad": {
           "r": 10,
           "t": 70
          },
          "showactive": false,
          "type": "buttons",
          "x": 0.1,
          "xanchor": "right",
          "y": 0,
          "yanchor": "top"
         }
        ],
        "width": 1250
       }
      },
      "image/png": "[encoded data removed]",
      "text/html": [
       "<div>                            <div id=\"8e0f1d1c-738a-482e-9821-2dd0022b0f99\" class=\"plotly-graph-div\" style=\"height:900px; width:1250px;\"></div>            <script type=\"text/javascript\">                require([\"plotly\"], function(Plotly) {                    window.PLOTLYENV=window.PLOTLYENV || {};                                    if (document.getElementById(\"8e0f1d1c-738a-482e-9821-2dd0022b0f99\")) {                    Plotly.newPlot(                        \"8e0f1d1c-738a-482e-9821-2dd0022b0f99\",                        [{\"customdata\": [[\"1937-12-20T00:00:00\", \"Newport News, VA\", \"Newport News Shipbuilding & Drydock Co.\"]], \"hovertemplate\": \"<b>%{hovertext}</b><br><br>event_date=12-20-1937<br>latitude=%{lat}<br>longitude=%{lon}<br>date=%{customdata[0]}<br>location=%{customdata[1]}<br>comment=%{customdata[2]}<extra></extra>\", \"hovertext\": [\"Keel Date\"], \"lat\": [37.0870821], \"legendgroup\": \"\", \"lon\": [-76.4730122], \"marker\": {\"color\": \"navy\", \"size\": 20}, \"mode\": \"markers\", \"name\": \"\", \"showlegend\": false, \"subplot\": \"mapbox\", \"type\": \"scattermapbox\"}],                        {\"height\": 900, \"legend\": {\"tracegroupgap\": 0}, \"mapbox\": {\"accesstoken\": \"pk.eyJ1IjoiZG12YW5jZSIsImEiOiJja2Y5dzYyd3kwYzB4MnVwZWxnMDluY3YyIn0.bS9XNzxQf1U9cm9Sey2lHg\", \"center\": {\"lat\": 22.89851252666667, \"lon\": -110.92667122666667}, \"domain\": {\"x\": [0.0, 1.0], \"y\": [0.0, 1.0]}, \"style\": \"basic\", \"zoom\": 8}, \"sliders\": [{\"active\": 0, \"currentvalue\": {\"prefix\": \"event_date=\"}, \"len\": 0.9, \"pad\": {\"b\": 10, \"t\": 60}, \"steps\": [{\"args\": [[\"12-20-1937\"], {\"frame\": {\"duration\": 0, \"redraw\": true}, \"fromcurrent\": true, \"mode\": \"immediate\", \"transition\": {\"duration\": 0, \"easing\": \"linear\"}}], \"label\": \"12-20-1937\", \"method\": \"animate\"}, {\"args\": [[\"12-8-1938\"], {\"frame\": {\"duration\": 0, \"redraw\": true}, \"fromcurrent\": true, \"mode\": \"immediate\", \"transition\": {\"duration\": 0, \"easing\": \"linear\"}}], \"label\": \"12-8-1938\", \"method\": \"animate\"}, {\"args\": [[\"11-3-1939\"], {\"frame\": {\"duration\": 0, \"redraw\": true}, \"fromcurrent\": true, \"mode\": \"immediate\", \"transition\": {\"duration\": 0, \"easing\": \"linear\"}}], \"label\": \"11-3-1939\", \"method\": \"animate\"}, {\"args\": [[\"09-01-1940\"], {\"frame\": {\"duration\": 0, \"redraw\": true}, \"fromcurrent\": true, \"mode\": \"immediate\", \"transition\": {\"duration\": 0, \"easing\": \"linear\"}}], \"label\": \"09-01-1940\", \"method\": \"animate\"}, {\"args\": [[\"12-7-1941 12:53\"], {\"frame\": {\"duration\": 0, \"redraw\": true}, \"fromcurrent\": true, \"mode\": \"immediate\", \"transition\": {\"duration\": 0, \"easing\": \"linear\"}}], \"label\": \"12-7-1941 12:53\", \"method\": \"animate\"}, {\"args\": [[\"12-17-1941\"], {\"frame\": {\"duration\": 0, \"redraw\": true}, \"fromcurrent\": true, \"mode\": \"immediate\", \"transition\": {\"duration\": 0, \"easing\": \"linear\"}}], \"label\": \"12-17-1941\", \"method\": \"animate\"}, {\"args\": [[\"12-20-1941\"], {\"frame\": {\"duration\": 0, \"redraw\": true}, \"fromcurrent\": true, \"mode\": \"immediate\", \"transition\": {\"duration\": 0, \"easing\": \"linear\"}}], \"label\": \"12-20-1941\", \"method\": \"animate\"}, {\"args\": [[\"12-23-1941\"], {\"frame\": {\"duration\": 0, \"redraw\": true}, \"fromcurrent\": true, \"mode\": \"immediate\", \"transition\": {\"duration\": 0, \"easing\": \"linear\"}}], \"label\": \"12-23-1941\", \"method\": \"animate\"}, {\"args\": [[\"01-06-1942\"], {\"frame\": {\"duration\": 0, \"redraw\": true}, \"fromcurrent\": true, \"mode\": \"immediate\", \"transition\": {\"duration\": 0, \"easing\": \"linear\"}}], \"label\": \"01-06-1942\", \"method\": \"animate\"}, {\"args\": [[\"01-08-1942\"], {\"frame\": {\"duration\": 0, \"redraw\": true}, \"fromcurrent\": true, \"mode\": \"immediate\", \"transition\": {\"duration\": 0, \"easing\": \"linear\"}}], \"label\": \"01-08-1942\", \"method\": \"animate\"}, {\"args\": [[\"01-20-1942\"], {\"frame\": {\"duration\": 0, \"redraw\": true}, \"fromcurrent\": true, \"mode\": \"immediate\", \"transition\": {\"duration\": 0, \"easing\": \"linear\"}}], \"label\": \"01-20-1942\", \"method\": \"animate\"}, {\"args\": [[\"01-25-1942\"], {\"frame\": {\"duration\": 0, \"redraw\": true}, \"fromcurrent\": true, \"mode\": \"immediate\", \"transition\": {\"duration\": 0, \"easing\": \"linear\"}}], \"label\": \"01-25-1942\", \"method\": \"animate\"}, {\"args\": [[\"02-01-1942\"], {\"frame\": {\"duration\": 0, \"redraw\": true}, \"fromcurrent\": true, \"mode\": \"immediate\", \"transition\": {\"duration\": 0, \"easing\": \"linear\"}}], \"label\": \"02-01-1942\", \"method\": \"animate\"}, {\"args\": [[\"02-06-1942\"], {\"frame\": {\"duration\": 0, \"redraw\": true}, \"fromcurrent\": true, \"mode\": \"immediate\", \"transition\": {\"duration\": 0, \"easing\": \"linear\"}}], \"label\": \"02-06-1942\", \"method\": \"animate\"}, {\"args\": [[\"11-15-1945\"], {\"frame\": {\"duration\": 0, \"redraw\": true}, \"fromcurrent\": true, \"mode\": \"immediate\", \"transition\": {\"duration\": 0, \"easing\": \"linear\"}}], \"label\": \"11-15-1945\", \"method\": \"animate\"}], \"x\": 0.1, \"xanchor\": \"left\", \"y\": 0, \"yanchor\": \"top\"}], \"template\": {\"data\": {\"bar\": [{\"error_x\": {\"color\": \"#2a3f5f\"}, \"error_y\": {\"color\": \"#2a3f5f\"}, \"marker\": {\"line\": {\"color\": \"#E5ECF6\", \"width\": 0.5}}, \"type\": \"bar\"}], \"barpolar\": [{\"marker\": {\"line\": {\"color\": \"#E5ECF6\", \"width\": 0.5}}, \"type\": \"barpolar\"}], \"carpet\": [{\"aaxis\": {\"endlinecolor\": \"#2a3f5f\", \"gridcolor\": \"white\", \"linecolor\": \"white\", \"minorgridcolor\": \"white\", \"startlinecolor\": \"#2a3f5f\"}, \"baxis\": {\"endlinecolor\": \"#2a3f5f\", \"gridcolor\": \"white\", \"linecolor\": \"white\", \"minorgridcolor\": \"white\", \"startlinecolor\": \"#2a3f5f\"}, \"type\": \"carpet\"}], \"choropleth\": [{\"colorbar\": {\"outlinewidth\": 0, \"ticks\": \"\"}, \"type\": \"choropleth\"}], \"contour\": [{\"colorbar\": {\"outlinewidth\": 0, \"ticks\": \"\"}, \"colorscale\": [[0.0, \"#0d0887\"], [0.1111111111111111, \"#46039f\"], [0.2222222222222222, \"#7201a8\"], [0.3333333333333333, \"#9c179e\"], [0.4444444444444444, \"#bd3786\"], [0.5555555555555556, \"#d8576b\"], [0.6666666666666666, \"#ed7953\"], [0.7777777777777778, \"#fb9f3a\"], [0.8888888888888888, \"#fdca26\"], [1.0, \"#f0f921\"]], \"type\": \"contour\"}], \"contourcarpet\": [{\"colorbar\": {\"outlinewidth\": 0, \"ticks\": \"\"}, \"type\": \"contourcarpet\"}], \"heatmap\": [{\"colorbar\": {\"outlinewidth\": 0, \"ticks\": \"\"}, \"colorscale\": [[0.0, \"#0d0887\"], [0.1111111111111111, \"#46039f\"], [0.2222222222222222, \"#7201a8\"], [0.3333333333333333, \"#9c179e\"], [0.4444444444444444, \"#bd3786\"], [0.5555555555555556, \"#d8576b\"], [0.6666666666666666, \"#ed7953\"], [0.7777777777777778, \"#fb9f3a\"], [0.8888888888888888, \"#fdca26\"], [1.0, \"#f0f921\"]], \"type\": \"heatmap\"}], \"heatmapgl\": [{\"colorbar\": {\"outlinewidth\": 0, \"ticks\": \"\"}, \"colorscale\": [[0.0, \"#0d0887\"], [0.1111111111111111, \"#46039f\"], [0.2222222222222222, \"#7201a8\"], [0.3333333333333333, \"#9c179e\"], [0.4444444444444444, \"#bd3786\"], [0.5555555555555556, \"#d8576b\"], [0.6666666666666666, \"#ed7953\"], [0.7777777777777778, \"#fb9f3a\"], [0.8888888888888888, \"#fdca26\"], [1.0, \"#f0f921\"]], \"type\": \"heatmapgl\"}], \"histogram\": [{\"marker\": {\"colorbar\": {\"outlinewidth\": 0, \"ticks\": \"\"}}, \"type\": \"histogram\"}], \"histogram2d\": [{\"colorbar\": {\"outlinewidth\": 0, \"ticks\": \"\"}, \"colorscale\": [[0.0, \"#0d0887\"], [0.1111111111111111, \"#46039f\"], [0.2222222222222222, \"#7201a8\"], [0.3333333333333333, \"#9c179e\"], [0.4444444444444444, \"#bd3786\"], [0.5555555555555556, \"#d8576b\"], [0.6666666666666666, \"#ed7953\"], [0.7777777777777778, \"#fb9f3a\"], [0.8888888888888888, \"#fdca26\"], [1.0, \"#f0f921\"]], \"type\": \"histogram2d\"}], \"histogram2dcontour\": [{\"colorbar\": {\"outlinewidth\": 0, \"ticks\": \"\"}, \"colorscale\": [[0.0, \"#0d0887\"], [0.1111111111111111, \"#46039f\"], [0.2222222222222222, \"#7201a8\"], [0.3333333333333333, \"#9c179e\"], [0.4444444444444444, \"#bd3786\"], [0.5555555555555556, \"#d8576b\"], [0.6666666666666666, \"#ed7953\"], [0.7777777777777778, \"#fb9f3a\"], [0.8888888888888888, \"#fdca26\"], [1.0, \"#f0f921\"]], \"type\": \"histogram2dcontour\"}], \"mesh3d\": [{\"colorbar\": {\"outlinewidth\": 0, \"ticks\": \"\"}, \"type\": \"mesh3d\"}], \"parcoords\": [{\"line\": {\"colorbar\": {\"outlinewidth\": 0, \"ticks\": \"\"}}, \"type\": \"parcoords\"}], \"pie\": [{\"automargin\": true, \"type\": \"pie\"}], \"scatter\": [{\"marker\": {\"colorbar\": {\"outlinewidth\": 0, \"ticks\": \"\"}}, \"type\": \"scatter\"}], \"scatter3d\": [{\"line\": {\"colorbar\": {\"outlinewidth\": 0, \"ticks\": \"\"}}, \"marker\": {\"colorbar\": {\"outlinewidth\": 0, \"ticks\": \"\"}}, \"type\": \"scatter3d\"}], \"scattercarpet\": [{\"marker\": {\"colorbar\": {\"outlinewidth\": 0, \"ticks\": \"\"}}, \"type\": \"scattercarpet\"}], \"scattergeo\": [{\"marker\": {\"colorbar\": {\"outlinewidth\": 0, \"ticks\": \"\"}}, \"type\": \"scattergeo\"}], \"scattergl\": [{\"marker\": {\"colorbar\": {\"outlinewidth\": 0, \"ticks\": \"\"}}, \"type\": \"scattergl\"}], \"scattermapbox\": [{\"marker\": {\"colorbar\": {\"outlinewidth\": 0, \"ticks\": \"\"}}, \"type\": \"scattermapbox\"}], \"scatterpolar\": [{\"marker\": {\"colorbar\": {\"outlinewidth\": 0, \"ticks\": \"\"}}, \"type\": \"scatterpolar\"}], \"scatterpolargl\": [{\"marker\": {\"colorbar\": {\"outlinewidth\": 0, \"ticks\": \"\"}}, \"type\": \"scatterpolargl\"}], \"scatterternary\": [{\"marker\": {\"colorbar\": {\"outlinewidth\": 0, \"ticks\": \"\"}}, \"type\": \"scatterternary\"}], \"surface\": [{\"colorbar\": {\"outlinewidth\": 0, \"ticks\": \"\"}, \"colorscale\": [[0.0, \"#0d0887\"], [0.1111111111111111, \"#46039f\"], [0.2222222222222222, \"#7201a8\"], [0.3333333333333333, \"#9c179e\"], [0.4444444444444444, \"#bd3786\"], [0.5555555555555556, \"#d8576b\"], [0.6666666666666666, \"#ed7953\"], [0.7777777777777778, \"#fb9f3a\"], [0.8888888888888888, \"#fdca26\"], [1.0, \"#f0f921\"]], \"type\": \"surface\"}], \"table\": [{\"cells\": {\"fill\": {\"color\": \"#EBF0F8\"}, \"line\": {\"color\": \"white\"}}, \"header\": {\"fill\": {\"color\": \"#C8D4E3\"}, \"line\": {\"color\": \"white\"}}, \"type\": \"table\"}]}, \"layout\": {\"annotationdefaults\": {\"arrowcolor\": \"#2a3f5f\", \"arrowhead\": 0, \"arrowwidth\": 1}, \"autotypenumbers\": \"strict\", \"coloraxis\": {\"colorbar\": {\"outlinewidth\": 0, \"ticks\": \"\"}}, \"colorscale\": {\"diverging\": [[0, \"#8e0152\"], [0.1, \"#c51b7d\"], [0.2, \"#de77ae\"], [0.3, \"#f1b6da\"], [0.4, \"#fde0ef\"], [0.5, \"#f7f7f7\"], [0.6, \"#e6f5d0\"], [0.7, \"#b8e186\"], [0.8, \"#7fbc41\"], [0.9, \"#4d9221\"], [1, \"#276419\"]], \"sequential\": [[0.0, \"#0d0887\"], [0.1111111111111111, \"#46039f\"], [0.2222222222222222, \"#7201a8\"], [0.3333333333333333, \"#9c179e\"], [0.4444444444444444, \"#bd3786\"], [0.5555555555555556, \"#d8576b\"], [0.6666666666666666, \"#ed7953\"], [0.7777777777777778, \"#fb9f3a\"], [0.8888888888888888, \"#fdca26\"], [1.0, \"#f0f921\"]], \"sequentialminus\": [[0.0, \"#0d0887\"], [0.1111111111111111, \"#46039f\"], [0.2222222222222222, \"#7201a8\"], [0.3333333333333333, \"#9c179e\"], [0.4444444444444444, \"#bd3786\"], [0.5555555555555556, \"#d8576b\"], [0.6666666666666666, \"#ed7953\"], [0.7777777777777778, \"#fb9f3a\"], [0.8888888888888888, \"#fdca26\"], [1.0, \"#f0f921\"]]}, \"colorway\": [\"#636efa\", \"#EF553B\", \"#00cc96\", \"#ab63fa\", \"#FFA15A\", \"#19d3f3\", \"#FF6692\", \"#B6E880\", \"#FF97FF\", \"#FECB52\"], \"font\": {\"color\": \"#2a3f5f\"}, \"geo\": {\"bgcolor\": \"white\", \"lakecolor\": \"white\", \"landcolor\": \"#E5ECF6\", \"showlakes\": true, \"showland\": true, \"subunitcolor\": \"white\"}, \"hoverlabel\": {\"align\": \"left\"}, \"hovermode\": \"closest\", \"mapbox\": {\"style\": \"light\"}, \"paper_bgcolor\": \"white\", \"plot_bgcolor\": \"#E5ECF6\", \"polar\": {\"angularaxis\": {\"gridcolor\": \"white\", \"linecolor\": \"white\", \"ticks\": \"\"}, \"bgcolor\": \"#E5ECF6\", \"radialaxis\": {\"gridcolor\": \"white\", \"linecolor\": \"white\", \"ticks\": \"\"}}, \"scene\": {\"xaxis\": {\"backgroundcolor\": \"#E5ECF6\", \"gridcolor\": \"white\", \"gridwidth\": 2, \"linecolor\": \"white\", \"showbackground\": true, \"ticks\": \"\", \"zerolinecolor\": \"white\"}, \"yaxis\": {\"backgroundcolor\": \"#E5ECF6\", \"gridcolor\": \"white\", \"gridwidth\": 2, \"linecolor\": \"white\", \"showbackground\": true, \"ticks\": \"\", \"zerolinecolor\": \"white\"}, \"zaxis\": {\"backgroundcolor\": \"#E5ECF6\", \"gridcolor\": \"white\", \"gridwidth\": 2, \"linecolor\": \"white\", \"showbackground\": true, \"ticks\": \"\", \"zerolinecolor\": \"white\"}}, \"shapedefaults\": {\"line\": {\"color\": \"#2a3f5f\"}}, \"ternary\": {\"aaxis\": {\"gridcolor\": \"white\", \"linecolor\": \"white\", \"ticks\": \"\"}, \"baxis\": {\"gridcolor\": \"white\", \"linecolor\": \"white\", \"ticks\": \"\"}, \"bgcolor\": \"#E5ECF6\", \"caxis\": {\"gridcolor\": \"white\", \"linecolor\": \"white\", \"ticks\": \"\"}}, \"title\": {\"x\": 0.05}, \"xaxis\": {\"automargin\": true, \"gridcolor\": \"white\", \"linecolor\": \"white\", \"ticks\": \"\", \"title\": {\"standoff\": 15}, \"zerolinecolor\": \"white\", \"zerolinewidth\": 2}, \"yaxis\": {\"automargin\": true, \"gridcolor\": \"white\", \"linecolor\": \"white\", \"ticks\": \"\", \"title\": {\"standoff\": 15}, \"zerolinecolor\": \"white\", \"zerolinewidth\": 2}}}, \"title\": {\"text\": \"Events and Places of the USS Russell DD 414 - WWII\"}, \"updatemenus\": [{\"buttons\": [{\"args\": [null, {\"frame\": {\"duration\": 500, \"redraw\": true}, \"fromcurrent\": true, \"mode\": \"immediate\", \"transition\": {\"duration\": 500, \"easing\": \"linear\"}}], \"label\": \"&#9654;\", \"method\": \"animate\"}, {\"args\": [[null], {\"frame\": {\"duration\": 0, \"redraw\": true}, \"fromcurrent\": true, \"mode\": \"immediate\", \"transition\": {\"duration\": 0, \"easing\": \"linear\"}}], \"label\": \"&#9724;\", \"method\": \"animate\"}], \"direction\": \"left\", \"pad\": {\"r\": 10, \"t\": 70}, \"showactive\": false, \"type\": \"buttons\", \"x\": 0.1, \"xanchor\": \"right\", \"y\": 0, \"yanchor\": \"top\"}], \"width\": 1250},                        {\"responsive\": true}                    ).then(function(){\n",
       "                            Plotly.addFrames('8e0f1d1c-738a-482e-9821-2dd0022b0f99', [{\"data\": [{\"customdata\": [[\"1937-12-20T00:00:00\", \"Newport News, VA\", \"Newport News Shipbuilding & Drydock Co.\"]], \"hovertemplate\": \"<b>%{hovertext}</b><br><br>event_date=12-20-1937<br>latitude=%{lat}<br>longitude=%{lon}<br>date=%{customdata[0]}<br>location=%{customdata[1]}<br>comment=%{customdata[2]}<extra></extra>\", \"hovertext\": [\"Keel Date\"], \"lat\": [37.0870821], \"legendgroup\": \"\", \"lon\": [-76.4730122], \"marker\": {\"color\": \"#636efa\"}, \"mode\": \"markers\", \"name\": \"\", \"showlegend\": false, \"subplot\": \"mapbox\", \"type\": \"scattermapbox\"}], \"name\": \"12-20-1937\"}, {\"data\": [{\"customdata\": [[\"1938-12-08T00:00:00\", \"Newport News, VA\", \"NA\"]], \"hovertemplate\": \"<b>%{hovertext}</b><br><br>event_date=12-8-1938<br>latitude=%{lat}<br>longitude=%{lon}<br>date=%{customdata[0]}<br>location=%{customdata[1]}<br>comment=%{customdata[2]}<extra></extra>\", \"hovertext\": [\"Launch Date\"], \"lat\": [37.0870821], \"legendgroup\": \"\", \"lon\": [-76.4730122], \"marker\": {\"color\": \"#636efa\"}, \"mode\": \"markers\", \"name\": \"\", \"showlegend\": false, \"subplot\": \"mapbox\", \"type\": \"scattermapbox\"}], \"name\": \"12-8-1938\"}, {\"data\": [{\"customdata\": [[\"1939-11-03T00:00:00\", \"Newport News, VA\", \"NA\"]], \"hovertemplate\": \"<b>%{hovertext}</b><br><br>event_date=11-3-1939<br>latitude=%{lat}<br>longitude=%{lon}<br>date=%{customdata[0]}<br>location=%{customdata[1]}<br>comment=%{customdata[2]}<extra></extra>\", \"hovertext\": [\"Commissioned\"], \"lat\": [37.0870821], \"legendgroup\": \"\", \"lon\": [-76.4730122], \"marker\": {\"color\": \"#636efa\"}, \"mode\": \"markers\", \"name\": \"\", \"showlegend\": false, \"subplot\": \"mapbox\", \"type\": \"scattermapbox\"}], \"name\": \"11-3-1939\"}, {\"data\": [{\"customdata\": [[\"1940-09-01T00:00:00\", \"Halifax, Nova Scotia\", \"Exact date in September unknown. Check historical record on Lend-Lease Act.\"]], \"hovertemplate\": \"<b>%{hovertext}</b><br><br>event_date=09-01-1940<br>latitude=%{lat}<br>longitude=%{lon}<br>date=%{customdata[0]}<br>location=%{customdata[1]}<br>comment=%{customdata[2]}<extra></extra>\", \"hovertext\": [\"Lend Lease Act Signing\"], \"lat\": [44.65], \"legendgroup\": \"\", \"lon\": [-63.6], \"marker\": {\"color\": \"#636efa\"}, \"mode\": \"markers\", \"name\": \"\", \"showlegend\": false, \"subplot\": \"mapbox\", \"type\": \"scattermapbox\"}], \"name\": \"09-01-1940\"}, {\"data\": [{\"customdata\": [[\"1941-12-07T12:53:00\", \"Cosco Bay, Maine\", \"NA\"]], \"hovertemplate\": \"<b>%{hovertext}</b><br><br>event_date=12-7-1941 12:53<br>latitude=%{lat}<br>longitude=%{lon}<br>date=%{customdata[0]}<br>location=%{customdata[1]}<br>comment=%{customdata[2]}<extra></extra>\", \"hovertext\": [\"Target Practice\"], \"lat\": [43.6408], \"legendgroup\": \"\", \"lon\": [-70.25744], \"marker\": {\"color\": \"#636efa\"}, \"mode\": \"markers\", \"name\": \"\", \"showlegend\": false, \"subplot\": \"mapbox\", \"type\": \"scattermapbox\"}], \"name\": \"12-7-1941 12:53\"}, {\"data\": [{\"customdata\": [[\"1941-12-17T00:00:00\", \"New York Navy Yard\", \"Received orders for the Pacific sailing with the carrier Yorktown and four other destroyers.\"]], \"hovertemplate\": \"<b>%{hovertext}</b><br><br>event_date=12-17-1941<br>latitude=%{lat}<br>longitude=%{lon}<br>date=%{customdata[0]}<br>location=%{customdata[1]}<br>comment=%{customdata[2]}<extra></extra>\", \"hovertext\": [\"Repairs\"], \"lat\": [40.712345], \"legendgroup\": \"\", \"lon\": [-74.005531], \"marker\": {\"color\": \"#636efa\"}, \"mode\": \"markers\", \"name\": \"\", \"showlegend\": false, \"subplot\": \"mapbox\", \"type\": \"scattermapbox\"}], \"name\": \"12-17-1941\"}, {\"data\": [{\"customdata\": [[\"1941-12-20T00:00:00\", \"Pacific near Panama Canal\", \"Attacked probable submarine shortly after entering Pacific Ocean. Location uncertain.\"]], \"hovertemplate\": \"<b>%{hovertext}</b><br><br>event_date=12-20-1941<br>latitude=%{lat}<br>longitude=%{lon}<br>date=%{customdata[0]}<br>location=%{customdata[1]}<br>comment=%{customdata[2]}<extra></extra>\", \"hovertext\": [\"Submarine Encounter\"], \"lat\": [5.840081], \"legendgroup\": \"\", \"lon\": [-83.121784], \"marker\": {\"color\": \"#636efa\"}, \"mode\": \"markers\", \"name\": \"\", \"showlegend\": false, \"subplot\": \"mapbox\", \"type\": \"scattermapbox\"}], \"name\": \"12-20-1941\"}, {\"data\": [{\"customdata\": [[\"1941-12-23T00:00:00\", \"Pacific\", \"Rescued two airmen crashed after takeoff from Yorktown. Location uncertain.\"]], \"hovertemplate\": \"<b>%{hovertext}</b><br><br>event_date=12-23-1941<br>latitude=%{lat}<br>longitude=%{lon}<br>date=%{customdata[0]}<br>location=%{customdata[1]}<br>comment=%{customdata[2]}<extra></extra>\", \"hovertext\": [\"Airmen Rescue\"], \"lat\": [15.30538], \"legendgroup\": \"\", \"lon\": [-108.701307], \"marker\": {\"color\": \"#636efa\"}, \"mode\": \"markers\", \"name\": \"\", \"showlegend\": false, \"subplot\": \"mapbox\", \"type\": \"scattermapbox\"}], \"name\": \"12-23-1941\"}, {\"data\": [{\"customdata\": [[\"1942-01-06T00:00:00\", \"San Diego Naval Base\", \"Sailed west, screening reinforcements to Samoa.\"]], \"hovertemplate\": \"<b>%{hovertext}</b><br><br>event_date=01-06-1942<br>latitude=%{lat}<br>longitude=%{lon}<br>date=%{customdata[0]}<br>location=%{customdata[1]}<br>comment=%{customdata[2]}<extra></extra>\", \"hovertext\": [\"Set sail with reinforcements\"], \"lat\": [32.7152778], \"legendgroup\": \"\", \"lon\": [-117.1563889], \"marker\": {\"color\": \"#636efa\"}, \"mode\": \"markers\", \"name\": \"\", \"showlegend\": false, \"subplot\": \"mapbox\", \"type\": \"scattermapbox\"}], \"name\": \"01-06-1942\"}, {\"data\": [{\"customdata\": [[\"1942-01-08T00:00:00\", \"Pacific\", \"F4F Wildcat crashed after takeoff from Yorktown. Russell rescued pilot.\"]], \"hovertemplate\": \"<b>%{hovertext}</b><br><br>event_date=01-08-1942<br>latitude=%{lat}<br>longitude=%{lon}<br>date=%{customdata[0]}<br>location=%{customdata[1]}<br>comment=%{customdata[2]}<extra></extra>\", \"hovertext\": [\"F4F Wildcat pilot rescue\"], \"lat\": [23.4871], \"legendgroup\": \"\", \"lon\": [-126.9387], \"marker\": {\"color\": \"#636efa\"}, \"mode\": \"markers\", \"name\": \"\", \"showlegend\": false, \"subplot\": \"mapbox\", \"type\": \"scattermapbox\"}], \"name\": \"01-08-1942\"}, {\"data\": [{\"customdata\": [[\"1942-01-20T00:00:00\", \"Pago Pago, Samoa\", \"Arrived in Samoa with reinforcements.\"]], \"hovertemplate\": \"<b>%{hovertext}</b><br><br>event_date=01-20-1942<br>latitude=%{lat}<br>longitude=%{lon}<br>date=%{customdata[0]}<br>location=%{customdata[1]}<br>comment=%{customdata[2]}<extra></extra>\", \"hovertext\": [\"Arrival in Samoa\"], \"lat\": [-14.27328], \"legendgroup\": \"\", \"lon\": [-170.70297], \"marker\": {\"color\": \"#636efa\"}, \"mode\": \"markers\", \"name\": \"\", \"showlegend\": false, \"subplot\": \"mapbox\", \"type\": \"scattermapbox\"}], \"name\": \"01-20-1942\"}, {\"data\": [{\"customdata\": [[\"1942-01-25T00:00:00\", \"Pago Pago, Samoa\", \"Left Samoa for joint attack on Gilbert and Marshall Islands with Yorktown and Enterprise task forces.\"]], \"hovertemplate\": \"<b>%{hovertext}</b><br><br>event_date=01-25-1942<br>latitude=%{lat}<br>longitude=%{lon}<br>date=%{customdata[0]}<br>location=%{customdata[1]}<br>comment=%{customdata[2]}<extra></extra>\", \"hovertext\": [\"Depart Samoa enroute to Gilbert Islands\"], \"lat\": [-13.9742], \"legendgroup\": \"\", \"lon\": [-170.8775], \"marker\": {\"color\": \"#636efa\"}, \"mode\": \"markers\", \"name\": \"\", \"showlegend\": false, \"subplot\": \"mapbox\", \"type\": \"scattermapbox\"}], \"name\": \"01-25-1942\"}, {\"data\": [{\"customdata\": [[\"1942-02-01T00:00:00\", \"Gilbert Islands\", \"Aircraft from Yorktown attack Japanese naval bases. Kiribati, Tarawa.\"]], \"hovertemplate\": \"<b>%{hovertext}</b><br><br>event_date=02-01-1942<br>latitude=%{lat}<br>longitude=%{lon}<br>date=%{customdata[0]}<br>location=%{customdata[1]}<br>comment=%{customdata[2]}<extra></extra>\", \"hovertext\": [\"Attack at the Gilbert Islands\"], \"lat\": [0.0584], \"legendgroup\": \"\", \"lon\": [-174.0021], \"marker\": {\"color\": \"#636efa\"}, \"mode\": \"markers\", \"name\": \"\", \"showlegend\": false, \"subplot\": \"mapbox\", \"type\": \"scattermapbox\"}], \"name\": \"02-01-1942\"}, {\"data\": [{\"customdata\": [[\"1942-02-06T00:00:00\", \"Pearl Harbor, Hawaii\", \"Repairs and resupply at Pearl Harbor.\"]], \"hovertemplate\": \"<b>%{hovertext}</b><br><br>event_date=02-06-1942<br>latitude=%{lat}<br>longitude=%{lon}<br>date=%{customdata[0]}<br>location=%{customdata[1]}<br>comment=%{customdata[2]}<extra></extra>\", \"hovertext\": [\"Arrive Pearl Harbor, Hawaii\"], \"lat\": [21.33926], \"legendgroup\": \"\", \"lon\": [-157.960922], \"marker\": {\"color\": \"#636efa\"}, \"mode\": \"markers\", \"name\": \"\", \"showlegend\": false, \"subplot\": \"mapbox\", \"type\": \"scattermapbox\"}], \"name\": \"02-06-1942\"}, {\"data\": [{\"customdata\": [[\"1945-11-15T00:00:00\", \"San Diego, CA\", \"NA\"]], \"hovertemplate\": \"<b>%{hovertext}</b><br><br>event_date=11-15-1945<br>latitude=%{lat}<br>longitude=%{lon}<br>date=%{customdata[0]}<br>location=%{customdata[1]}<br>comment=%{customdata[2]}<extra></extra>\", \"hovertext\": [\"Decommissioned\"], \"lat\": [32.7152778], \"legendgroup\": \"\", \"lon\": [-117.1563889], \"marker\": {\"color\": \"#636efa\"}, \"mode\": \"markers\", \"name\": \"\", \"showlegend\": false, \"subplot\": \"mapbox\", \"type\": \"scattermapbox\"}], \"name\": \"11-15-1945\"}]);\n",
       "                        }).then(function(){\n",
       "                            \n",
       "var gd = document.getElementById('8e0f1d1c-738a-482e-9821-2dd0022b0f99');\n",
       "var x = new MutationObserver(function (mutations, observer) {{\n",
       "        var display = window.getComputedStyle(gd).display;\n",
       "        if (!display || display === 'none') {{\n",
       "            console.log([gd, 'removed!']);\n",
       "            Plotly.purge(gd);\n",
       "            observer.disconnect();\n",
       "        }}\n",
       "}});\n",
       "\n",
       "// Listen for the removal of the full notebook cells\n",
       "var notebookContainer = gd.closest('#notebook-container');\n",
       "if (notebookContainer) {{\n",
       "    x.observe(notebookContainer, {childList: true});\n",
       "}}\n",
       "\n",
       "// Listen for the clearing of the current output cell\n",
       "var outputEl = gd.closest('.output');\n",
       "if (outputEl) {{\n",
       "    x.observe(outputEl, {childList: true});\n",
       "}}\n",
       "\n",
       "                        })                };                });            </script>        </div>"
      ]
     },
     "metadata": {},
     "output_type": "display_data"
    }
   ],
   "source": [
    "# mapbox_style: str (default `'basic'`, needs Mapbox API token)\n",
    "#     Identifier of base map style, some of which require a Mapbox API token\n",
    "#     to be set using `plotly.express.set_mapbox_access_token()`. Allowed\n",
    "#     values which do not require a Mapbox API token are `'open-street-map'`,\n",
    "#     `'white-bg'`, `'carto-positron'`, `'carto-darkmatter'`, `'stamen-\n",
    "#     terrain'`, `'stamen-toner'`, `'stamen-watercolor'`. Allowed values\n",
    "#     which do require a Mapbox API token are `'basic'`, `'streets'`,\n",
    "#     `'outdoors'`, `'light'`, `'dark'`, `'satellite'`, `'satellite-\n",
    "#     streets'`.\n",
    "\n",
    "fig = px.scatter_mapbox(\n",
    "    df,\n",
    "    lat=\"latitude\",\n",
    "    lon=\"longitude\",\n",
    "    #     color=\"action\",\n",
    "    #     size=\"event\",\n",
    "    hover_name=\"event\",\n",
    "    hover_data=[\"date\", \"location\", \"comment\"],\n",
    "    title=\"Events and Places of the USS Russell DD 414 - WWII\",\n",
    "    mapbox_style=\"basic\",\n",
    "    width=1250,\n",
    "    height=900,\n",
    "    animation_frame=\"event_date\",  # The single line that brings animation to the map based on the parameter indicated\n",
    ")\n",
    "fig.update_traces(\n",
    "    marker_size=20,\n",
    "    marker_color=\"navy\",\n",
    "    selector=dict(\n",
    "        type=\"scattermapbox\"\n",
    "    ),  # Color starts with navy but changes to default after first frame. Recall this from eBird project...\n",
    ")\n",
    "\n",
    "fig.show()"
   ]
  },
  {
   "cell_type": "markdown",
   "metadata": {},
   "source": [
    "### Try some NLP techniques on this.\n",
    "\n",
    "From https://www.historycentral.com/navy/destroyer2/russell.html\n",
    "\n",
    "Russell (DD-414: dp. 1570; 1. 348'2\"; b. 36'1\"; dr. 11'5\"; s. 35 k.; opl. 192'; a. 5 5\", 8 21\" tt., 2 dct.; cl. Sims) Russell (DD-414) was laid down 20 December 1937 by the Newport News Shipbuilding & Dry Dock Co., Newport News, Va., launched 8 December 1938, sponsored by Mrs. Charles H. Marshall, grandaughter of Rear Admiral Russell and commissioned 3 November 1939, Lt. Comdr. J. C. Pollock in command. Commissioned 2 months after the outbreak of World War II in Europe, Russell oruised in the western Atlantic and in the Caribbean on Neutrality Patrol until the bombing of Pearl Harbor. Then ordered to the Pacific, she transited the Panama Canal and proceeded to San Diego, whence, on 6 January 1942, she sailed west, screening reinforcements to Samoa. By the time of her arrival, 20 January, the Japanese had moved into Malaya, Borneo, the Celebes, the Gilberts, and the Bismarck Archipelago. Within the week, Rabaul fell and the Japanese continued on to New Ireland and the Solomons while further west they extended their occupation of the Netherlands East Indies. On the 25th, Russell sailed north with TF 17, screened Yorktown (CV-5) as her planes raided Makin, Mili, and Jaluit on 1 February, then set a course for Pearl Harbor. In midmonth, the forge sailed again. Diverted from its original destination, Wake, it oovered forces establishing an airbase on Canton Island, important on the Hawaii-Samoa-Fiji route to Australia and less than 1,000 miles from 1\\/lakin. Raids on Rabaul and Gasmata were next ordered to cover a movement of troops to New Caledonia, but on 8 Marchthe Japanese landed at Salamaua and Lae in New Guinea and Port Moresby was threatened. The force, again joined by the Le~ington foiee—as in the Gilberts' raid, steamed into the Gulf of Papua, whence, on the 10th, planes were sent over the Owen Stanley Range to bomb the newly-established Japanese bases on the l Iuon Gulf. Through April, Russell continued to screen the Yorktown force, operating primarily in the ANZAC area. Detached on 3 May to screen Neosho during fueling operations with TF 11 she rejoined TF 17 early on the 5th and resumed screening duties for the force's heavier units. On the 7th, in the Coral Sea, she engaged enemy planes closing the formation to threaten Yorktown and Lexington (CV-2) and to support Japanese forces in an assault on Port Moresby. Le~ington hit and heavily damaged, but still in action, continued to recover and launch planes. Three hours later, however, she reported a serious explosion. A second followed. Her fires were no longer under oontrol. She soon oommeneed abandoning ship. Russell joined her screen; eireled the crippled ship as rescue ships evacuated personnel, and, with the completion of that work, departed the scene of the Battle of the Coral Sea. Retiring to Tonga, Russell debarked 170 survivors from Lerington and sailed for Pearl Harbor. Arriving on the 27th she headed out again on the 30th, this time toward Midway. On 4 June, Task Forees 16 and 17 again met the enemy in an air duel, through which Russell steamed in the screen of Yorktown. In the afternoon, enemy torpedo planes broke through the screen and scored successfully on the carrier. The patched-up survivor of the Coral Sea was abandoned. Russell took on 492 of her crew and aviation personnel. The next day she transferred 27 to Astoria (CA-34) to assist in salvage operations on the carrier, but the Japanese torpedoes negated the effort and Yorktown and Hamr7zann (DD-412) were lost. On the 10th, Russell covered the transferral of replacements from Saratoga (CV-3) to Hornet (CV-8) and Enterprise (CV-6); and, on the 13th, she returned to Pearl Harbor. Engaged in training exercises for the next 2 months, Russell again sortied with TF 17 on 17 August, took station screening Hornet; and headed southwest. On the 29th, TF 17 joined TF 61, becoming TG 61.2. On the 31st Saratoga took a torpedo and Russell conducted an unsuccessfulsubmarine hunt, the first of many in the long and costly campaign for Guadaleanal. On 6 September, one of Hornet's planes dropped an explosive off Russell's starboard quarter to detonate a torpedo. Another submarine search commenced At l 452 she established contact and dropped six 600-pound depth charges. At 1513, she sighted an oil slick 1 mile by one-half mile, but contact was lost at 700 yards and never regained Through the remainder of the year, and into the new, Russell continued to operate in support of the Guadaleanal campaign. On 25 and 26 October, she participated in the Battle of the Santa Cruz Islands, during which she again joined in rescue operations for a sinking carrier, this time Hornet, from which she transferred the commander of Task Foree 17, Rear Adm. George D. Murray and his staff to Pensacola (CA-24), seriously wounded personnel to Northampton (CA-26), and other survivors to Noumea where Russell's superstructure damaged during rescue work—was repaired. During December and into January 1943, she screened eonvoys to Guadaleanal and Tulagi, then to Rennel. In February, she screened Enterprise; then, in March, resumed convoy escort work, making one run to Australia and back by midApril. On 1 May the destroyer set a course for the west coast. At the end of July, after overhaul at Mare Island, she steamed north to join forces staging for the \"invasion\" of Kiska. Aleutian patrol duty follou ed, and, w ith the arrival of autumn, she turned south to escort landing craft to Hawaii. In October, she continued on to Wellington, New Zealand and, in early November, she escorted transports to the Ne~- Hebrides where she joined TF 53, then preparing to push into the Gilberts. Underway on the 13th with the Task Force, she arrived with the troop transports off Betio, Tarawa, on the 20th, then screened heavier units as they shelled the shore. Remaining in the area until the 25th, she provided gunfire support and screened tho transports as they filled with Marine casualties. On the 27th, she joined TG 50.:3 and, with TG 50.1, sailed for the Marshalls. On 4 December, carrier planes raided Kwajalein and Wotje, and, on the 9th, the force returned to Pearl Harbor, whence Russell continued on to the west coast. On 13 January 1944, Russell, screening TG 53.5, departed the California coast. Training in the Hawaiian Islands followed. On the 22d the force headed west. On the 30th, Russell joined other destroyers and heavier units in shelling Wotje. On the 31st, she rejoined the main force off Kwajalein and after initial screening duties, added her guns to the naval gunfire support line. On 2 Fehruary, she screened CarDiv 22 and on the 3d, entered Kwajalein lagoon. Standing out 5 days later, she arrived at Pearl Harbor on the 15th and was directed on to Puget Sound for repairs. Repairs completed in March, Russell returned to lIawaii in early April; then escorted U.S. Army tug, Willard Holbrook to New Guinea where she rejoined her squadron, DesRon 2. Arriving at Finsehafen 4 May, she reported to the commander of TF 76 at Sudest on the 6th and commenced 5 months of intensive and navigationally difficult escort work along the New Guinea coast. Assigned initially to escort LST's resupplying Hollandia and Aitape, she joined TF 77 on the 16th and covered LCI's and AT's to the Wakde-Sarmi area. From the 17th to the 20th, she stood off Wakde, marking the approach channel on the first day of the campaigns there and providing fire support and screening services on the others. On the 20th, she returned to Humboldt Bay and 5 days later sailed with LST's for Biak to commence Operation \"Horliek.\" On the 27th, she shelled Padiator Island, patrolled between Pai and Pandiadori Islands, blasted targets on Biak, and then got underway to return to Humboldt Bay. Into June, she continued to escort convoys to and provide cover for operations at Biak and Wakde. In mid-June, she participated in a bombardment of the Toem area, then resumed escort runs along the coast. In early July, Noemfoor, with its two Japanese airfields, became the target. At midmonth Russell gained a brief respite at Manus, then at the end of the month rommenced Operation \"Globetrotter,\" the capture of Sansapor. Through August, she continued operations in support of the campaign and, in mid-September, moved forward to the Sloluccas to cover the occupation of Morotai, the last stepping stone on the southern route to the Philippines and on the eastern route to Borneo and the Netherlands East Indies. On 13 October Russell sailed with TF 78 for the Philippines and on the 20th, as the troops of the Northern Attack Foree landed south of Taeloban, patrolled off Alabat Point. 0n the 21st she took up fire support duties to the north of the unloading area. Through the 24th she remained in San Pedro Bay; resumed patrol in Leyte Gulf on the 25th; and, on the 26th, got underway for New Guinea, whence during November and December, she escorted reinforcements to Leyte. On 28 December Russell departed Aitape for her next amphibious operation—the invasion of Luzon—and steamed into the Mindoro Sea on 5 January 1945. Two days later, she joined three other destroyers in forming an interceptor force 5 miles on the starboard of the San Fabian Attack Foree to destroy any enemy ships attempting a sortie from Manila Bay against the convoy. At 2230 an enemy destroyer Hinoki was detected and fired on. The shells found their mark, Hinoki exploded and sank within 20 minutes. On the 9th, the force, having survived harassing attacks bv planes, boats, and ships, arrived in Lingayen Gulf and Russell assumed screening duties off the transport area. For 9 days she patrolled, illuminated, bombarded, aml fought off kamikazes. From the 18th to the 23d, she escorted damaged ships back to Levte and, on the 27th, sailed north again. On the 31st, she ariived off Nasugbu Bay, covered YMS's as they cleared approach channels, then fired on enemy emplacements on Nasugbu Point. Relieved in late afternoon she returned to Lingayen Gulf, thence, on 2 February, to Leyte, New Guinea, and the Solomons. Russell arrived at Guadaleanal 15 February rejoined the 5th Fleet and prepared for Operation \"Iceberg;'; the Okinawa offensive. On 1 April, she arrived off the assault beaches and commenced screening the Northern Transport area. From the 3d to the 5th, she patrolled north of Ie Shima, then returned to the transport area to escort a convoy to Ulithi. Returning to the Hagushi beaches with reinforcements on the 21st, she shifted to Kerama Retto, whence she patrolled in carrier operating area \"Rapier,\" south of Okinawa, into May. Detached from carrier screening duty on the 27th, she proceeded to the Hagushi anchorage and got underway the following day for the United States and a yard overhaul. Still undergoing overhaul at Seattle when the war ended R[/R?'II was prepared for inactivation during September; and, on 15 November, she was decommissioned. Thirteen days later she was struck from the Navy list and, in September 1947, she was sold for scrap to the National Metal & Steel Corp., Terminal Island, Calif. Russell earned 16 battle stars during World War II."
   ]
  },
  {
   "cell_type": "markdown",
   "metadata": {},
   "source": [
    "<span style=\"color:navy\">\n",
    "\n",
    "#### \"The world breaks everyone, and afterward, many are strong at the broken places.\" -Ernest Hemingway"
   ]
  },
  {
   "cell_type": "markdown",
   "metadata": {},
   "source": [
    "### A scrolling timeline. As plotly mapbox plays through the timeline on the left, the storyline on the right cycles through with images and supporting text. Manually click to move to the next event."
   ]
  },
  {
   "cell_type": "code",
   "execution_count": null,
   "metadata": {},
   "outputs": [],
   "source": []
  }
 ],
 "metadata": {
  "kernelspec": {
   "display_name": "Python 3",
   "language": "python",
   "name": "python3"
  },
  "language_info": {
   "codemirror_mode": {
    "name": "ipython",
    "version": 3
   },
   "file_extension": ".py",
   "mimetype": "text/x-python",
   "name": "python",
   "nbconvert_exporter": "python",
   "pygments_lexer": "ipython3",
   "version": "3.7.9"
  }
 },
 "nbformat": 4,
 "nbformat_minor": 4
}
